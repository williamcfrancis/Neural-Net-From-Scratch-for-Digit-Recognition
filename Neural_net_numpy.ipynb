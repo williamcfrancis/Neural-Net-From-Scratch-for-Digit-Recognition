{
  "nbformat": 4,
  "nbformat_minor": 0,
  "metadata": {
    "colab": {
      "name": "willcf_hw1_problem3.ipynb",
      "provenance": [],
      "collapsed_sections": []
    },
    "kernelspec": {
      "name": "python3",
      "display_name": "Python 3"
    },
    "language_info": {
      "name": "python"
    }
  },
  "cells": [
    {
      "cell_type": "markdown",
      "metadata": {
        "id": "SbDC-BzVgjtp"
      },
      "source": [
        "###Name: William C Francis\n",
        "###Penn Email: willcf@seas.upenn.edu\n",
        "\n",
        "# Solution 1\n",
        "\n",
        "##(a):"
      ]
    },
    {
      "cell_type": "markdown",
      "metadata": {
        "id": "DruKI5pH0y8l"
      },
      "source": [
        "####Imports"
      ]
    },
    {
      "cell_type": "code",
      "metadata": {
        "colab": {
          "base_uri": "https://localhost:8080/"
        },
        "id": "t5KQr7hZl-G5",
        "outputId": "5d2101db-dd80-495d-947d-032067c0d7b3"
      },
      "source": [
        "import numpy as np\n",
        "from random import randrange\n",
        "import matplotlib.pyplot as plt\n",
        "from sklearn.model_selection import train_test_split\n",
        "import seaborn as sns\n",
        "import torchvision as thv\n",
        "train = thv.datasets.MNIST('./', download=True, train=True) \n",
        "val = thv.datasets.MNIST('./', download=True, train=False) \n",
        "print(train.data.shape, len(train.targets))"
      ],
      "execution_count": 1,
      "outputs": [
        {
          "output_type": "stream",
          "name": "stdout",
          "text": [
            "torch.Size([60000, 28, 28]) 60000\n"
          ]
        },
        {
          "output_type": "stream",
          "name": "stderr",
          "text": [
            "/usr/local/lib/python3.7/dist-packages/torchvision/datasets/mnist.py:498: UserWarning: The given NumPy array is not writeable, and PyTorch does not support non-writeable tensors. This means you can write to the underlying (supposedly non-writeable) NumPy array using the tensor. You may want to copy the array to protect its data or make it writeable before converting it to a tensor. This type of warning will be suppressed for the rest of this program. (Triggered internally at  /pytorch/torch/csrc/utils/tensor_numpy.cpp:180.)\n",
            "  return torch.from_numpy(parsed.astype(m[2], copy=False)).view(*s)\n"
          ]
        }
      ]
    },
    {
      "cell_type": "markdown",
      "metadata": {
        "id": "W1tDo1DV03uu"
      },
      "source": [
        "####Getting the data ready"
      ]
    },
    {
      "cell_type": "code",
      "metadata": {
        "colab": {
          "base_uri": "https://localhost:8080/"
        },
        "id": "bEczJJzSOEfv",
        "outputId": "3d2bd0c4-4a8b-4036-effb-8de594c3ba3c"
      },
      "source": [
        "xtrain = train.data.numpy()\n",
        "ytrain = train.targets.numpy()\n",
        "xval = val.data.numpy()\n",
        "yval = val.targets.numpy()\n",
        "x,y,z = xtrain.shape\n",
        "xtrain = xtrain.reshape(x, y*z)\n",
        "x,y,z = xval.shape\n",
        "xval = xval.reshape(x, y*z)\n",
        "xtrain.shape, xval.shape"
      ],
      "execution_count": 2,
      "outputs": [
        {
          "output_type": "execute_result",
          "data": {
            "text/plain": [
              "((60000, 784), (10000, 784))"
            ]
          },
          "metadata": {},
          "execution_count": 2
        }
      ]
    },
    {
      "cell_type": "code",
      "metadata": {
        "colab": {
          "base_uri": "https://localhost:8080/",
          "height": 338
        },
        "id": "mPTGIuisVajT",
        "outputId": "f9a88bfa-dbf8-4632-fbf5-16aa1b81832e"
      },
      "source": [
        "sns.countplot(ytrain)"
      ],
      "execution_count": 3,
      "outputs": [
        {
          "output_type": "stream",
          "name": "stderr",
          "text": [
            "/usr/local/lib/python3.7/dist-packages/seaborn/_decorators.py:43: FutureWarning: Pass the following variable as a keyword arg: x. From version 0.12, the only valid positional argument will be `data`, and passing other arguments without an explicit keyword will result in an error or misinterpretation.\n",
            "  FutureWarning\n"
          ]
        },
        {
          "output_type": "execute_result",
          "data": {
            "text/plain": [
              "<matplotlib.axes._subplots.AxesSubplot at 0x7f3848c46550>"
            ]
          },
          "metadata": {},
          "execution_count": 3
        },
        {
          "output_type": "display_data",
          "data": {
            "image/png": "[encoded data removed]",
            "text/plain": [
              "<Figure size 432x288 with 1 Axes>"
            ]
          },
          "metadata": {
            "needs_background": "light"
          }
        }
      ]
    },
    {
      "cell_type": "code",
      "metadata": {
        "id": "WnijVOgAxvm5"
      },
      "source": [
        "xtrain, del1, ytrain, del2 = train_test_split(xtrain, ytrain, test_size = 0.5, stratify = ytrain, random_state = 10)\n",
        "xval, del1, yval, del2 = train_test_split(xval, yval, test_size = 0.5, stratify = yval, random_state = 10)"
      ],
      "execution_count": 4,
      "outputs": []
    },
    {
      "cell_type": "code",
      "metadata": {
        "colab": {
          "base_uri": "https://localhost:8080/",
          "height": 336
        },
        "id": "uq0F4Mqd4Rs4",
        "outputId": "f0fcd4d6-c51d-4d72-9c87-8cc37b94f293"
      },
      "source": [
        "sns.countplot(yval)"
      ],
      "execution_count": 5,
      "outputs": [
        {
          "output_type": "stream",
          "name": "stderr",
          "text": [
            "/usr/local/lib/python3.7/dist-packages/seaborn/_decorators.py:43: FutureWarning: Pass the following variable as a keyword arg: x. From version 0.12, the only valid positional argument will be `data`, and passing other arguments without an explicit keyword will result in an error or misinterpretation.\n",
            "  FutureWarning\n"
          ]
        },
        {
          "output_type": "execute_result",
          "data": {
            "text/plain": [
              "<matplotlib.axes._subplots.AxesSubplot at 0x7f37db7caf10>"
            ]
          },
          "metadata": {},
          "execution_count": 5
        },
        {
          "output_type": "display_data",
          "data": {
            "image/png": "[encoded data removed]",
            "text/plain": [
              "<Figure size 432x288 with 1 Axes>"
            ]
          },
          "metadata": {
            "needs_background": "light"
          }
        }
      ]
    },
    {
      "cell_type": "markdown",
      "metadata": {
        "id": "CqMZdcuyXXfP"
      },
      "source": [
        "####Plotting the images of a few randomly chosen images from training and validation set"
      ]
    },
    {
      "cell_type": "code",
      "metadata": {
        "colab": {
          "base_uri": "https://localhost:8080/",
          "height": 282
        },
        "id": "TIxqFzKtWFcf",
        "outputId": "93d1a115-1296-4e9b-a49b-0ac5730798d5"
      },
      "source": [
        "a = xtrain[randrange(30000)].reshape((28,28)) \n",
        "plt.imshow(a)"
      ],
      "execution_count": 6,
      "outputs": [
        {
          "output_type": "execute_result",
          "data": {
            "text/plain": [
              "<matplotlib.image.AxesImage at 0x7f37dd1955d0>"
            ]
          },
          "metadata": {},
          "execution_count": 6
        },
        {
          "output_type": "display_data",
          "data": {
            "image/png": "[encoded data removed]",
            "text/plain": [
              "<Figure size 432x288 with 1 Axes>"
            ]
          },
          "metadata": {
            "needs_background": "light"
          }
        }
      ]
    },
    {
      "cell_type": "code",
      "metadata": {
        "colab": {
          "base_uri": "https://localhost:8080/",
          "height": 282
        },
        "id": "EWzjtehsWbts",
        "outputId": "d4e7a52f-cbc9-48c4-8c7e-5f8218e7c2b0"
      },
      "source": [
        "a = xval[randrange(5000)].reshape((28,28)) \n",
        "plt.imshow(a)"
      ],
      "execution_count": 7,
      "outputs": [
        {
          "output_type": "execute_result",
          "data": {
            "text/plain": [
              "<matplotlib.image.AxesImage at 0x7f37db243810>"
            ]
          },
          "metadata": {},
          "execution_count": 7
        },
        {
          "output_type": "display_data",
          "data": {
            "image/png": "[encoded data removed]",
            "text/plain": [
              "<Figure size 432x288 with 1 Axes>"
            ]
          },
          "metadata": {
            "needs_background": "light"
          }
        }
      ]
    },
    {
      "cell_type": "code",
      "metadata": {
        "colab": {
          "base_uri": "https://localhost:8080/",
          "height": 282
        },
        "id": "1JNmG5pCXom1",
        "outputId": "b41d7cb9-3db9-4382-f3ff-500db2259c0e"
      },
      "source": [
        "a = xtrain[randrange(30000)].reshape((28,28)) \n",
        "plt.imshow(a)"
      ],
      "execution_count": 8,
      "outputs": [
        {
          "output_type": "execute_result",
          "data": {
            "text/plain": [
              "<matplotlib.image.AxesImage at 0x7f37db1a9b50>"
            ]
          },
          "metadata": {},
          "execution_count": 8
        },
        {
          "output_type": "display_data",
          "data": {
            "image/png": "[encoded data removed]",
            "text/plain": [
              "<Figure size 432x288 with 1 Axes>"
            ]
          },
          "metadata": {
            "needs_background": "light"
          }
        }
      ]
    },
    {
      "cell_type": "markdown",
      "metadata": {
        "id": "haHbkLaYgsDs"
      },
      "source": [
        "##(b):"
      ]
    },
    {
      "cell_type": "code",
      "metadata": {
        "id": "3rY_jSlVX9eS"
      },
      "source": [
        "class linear_t:\n",
        "\n",
        "  def __init__(self, n_inp, n_out):\n",
        "    self.w = np.random.normal(0,0.01,(n_inp, n_out))\n",
        "    wnorm = np.linalg.norm(self.w)\n",
        "    self.w = self.w/wnorm\n",
        "    self.b = np.random.normal(0,0.01, (1, n_out))\n",
        "    bnorm = np.linalg.norm(self.b)\n",
        "    self.b = self.b/bnorm\n",
        "\n",
        "  def forward(self, x_in): \n",
        "    self.x_in = x_in\n",
        "    self.out = np.dot(x_in, self.w) + self.b\n",
        "    return self.out\n",
        "\n",
        "  def backward(self, h_l):\n",
        "    self.dh_l = np.dot(h_l, self.w.T)\n",
        "    dw = np.dot(self.x_in.T, h_l)\n",
        "    db = np.sum(h_l, axis = 0, keepdims = True)\n",
        "    self.dw, self.db = dw, db\n",
        "    return self.dh_l\n",
        "\n",
        "  def zero_grad(self):\n",
        "    self.dw, self.db = 0*self.dw, 0*self.db"
      ],
      "execution_count": 9,
      "outputs": []
    },
    {
      "cell_type": "markdown",
      "metadata": {
        "id": "x0IwaDtbnK2N"
      },
      "source": [
        "####Verifying if the Frobenius norm of w and b is 1"
      ]
    },
    {
      "cell_type": "code",
      "metadata": {
        "colab": {
          "base_uri": "https://localhost:8080/"
        },
        "id": "WQHwyJGESvwV",
        "outputId": "020714ec-d5e3-489a-ee65-c74e1800fba8"
      },
      "source": [
        "l1 = linear_t(xtrain.shape[1], 10)\n",
        "l1out = l1.forward(xtrain)\n",
        "print(np.sum(np.square(l1.b)))\n",
        "print(np.sum(np.square(l1.w)))"
      ],
      "execution_count": 10,
      "outputs": [
        {
          "output_type": "stream",
          "name": "stdout",
          "text": [
            "1.0\n",
            "0.9999999999999998\n"
          ]
        }
      ]
    },
    {
      "cell_type": "code",
      "metadata": {
        "colab": {
          "base_uri": "https://localhost:8080/"
        },
        "id": "7HY6BDNXi8fW",
        "outputId": "7fbc74dc-a9c8-4820-ff0a-ec110aeea445"
      },
      "source": [
        "l1.w, l1.b"
      ],
      "execution_count": 11,
      "outputs": [
        {
          "output_type": "execute_result",
          "data": {
            "text/plain": [
              "(array([[ 0.01647422,  0.01945549,  0.01708848, ...,  0.01086702,\n",
              "         -0.00424439, -0.00434265],\n",
              "        [-0.00971138,  0.00685448,  0.00862828, ...,  0.0048798 ,\n",
              "         -0.00883935, -0.00652831],\n",
              "        [-0.0015538 , -0.00690986, -0.01363032, ..., -0.00204565,\n",
              "          0.00255901,  0.01896227],\n",
              "        ...,\n",
              "        [-0.01562262,  0.03675258,  0.00106002, ...,  0.00837255,\n",
              "         -0.00225184,  0.0048286 ],\n",
              "        [-0.00487112,  0.00783288,  0.01870232, ..., -0.01993549,\n",
              "          0.00889146, -0.03062801],\n",
              "        [ 0.0331423 , -0.00708408, -0.00364092, ..., -0.00895797,\n",
              "         -0.00865449,  0.01079095]]),\n",
              " array([[ 0.18045177, -0.06584693,  0.26491128,  0.11171044, -0.5104029 ,\n",
              "          0.39281225,  0.64495709,  0.17866764,  0.02430201, -0.13095489]]))"
            ]
          },
          "metadata": {},
          "execution_count": 11
        }
      ]
    },
    {
      "cell_type": "markdown",
      "metadata": {
        "id": "z1eiXprogy8g"
      },
      "source": [
        "##(c):"
      ]
    },
    {
      "cell_type": "code",
      "metadata": {
        "id": "v3Xj0QtakAls"
      },
      "source": [
        "class relu_t:\n",
        "  # def __init__(self, x_in):\n",
        "  #     self.input = x_in\n",
        "  def forward(self, x_in):\n",
        "      self.x_in = x_in\n",
        "      self.out = np.maximum(0, x_in)\n",
        "      return self.out\n",
        "\n",
        "  def backward(self, h_l):\n",
        "      self.dh_l = h_l.copy()\n",
        "      self.dh_l[self.x_in<=0] = 0\n",
        "      return self.dh_l"
      ],
      "execution_count": 12,
      "outputs": []
    },
    {
      "cell_type": "code",
      "metadata": {
        "colab": {
          "base_uri": "https://localhost:8080/"
        },
        "id": "U9sre_TDkrUT",
        "outputId": "1283e844-5c65-4f08-fee4-e29b8837fad0"
      },
      "source": [
        "activrel = relu_t()\n",
        "print(activrel.forward(l1out).shape)\n",
        "activrel.forward(l1out)"
      ],
      "execution_count": 13,
      "outputs": [
        {
          "output_type": "stream",
          "name": "stdout",
          "text": [
            "(30000, 10)\n"
          ]
        },
        {
          "output_type": "execute_result",
          "data": {
            "text/plain": [
              "array([[54.57555042, 12.66048982,  0.        , ...,  0.        ,\n",
              "        21.24228614, 26.68577161],\n",
              "       [27.54784252, 34.88655671, 10.41978883, ...,  0.        ,\n",
              "         3.23463423,  0.        ],\n",
              "       [ 0.        , 40.65883794, 45.72468858, ...,  0.        ,\n",
              "         0.        ,  0.        ],\n",
              "       ...,\n",
              "       [28.23816674, 35.80263538, 29.78427153, ...,  6.03204404,\n",
              "         0.        ,  0.        ],\n",
              "       [ 0.        ,  4.38480917,  0.        , ...,  0.        ,\n",
              "         9.52518916,  0.        ],\n",
              "       [ 0.        ,  1.80612539,  0.        , ...,  0.55310347,\n",
              "        17.9930497 , 21.88777017]])"
            ]
          },
          "metadata": {},
          "execution_count": 13
        }
      ]
    },
    {
      "cell_type": "markdown",
      "metadata": {
        "id": "MQNkVgKqhBxv"
      },
      "source": [
        "##(d): "
      ]
    },
    {
      "cell_type": "markdown",
      "metadata": {
        "id": "vX6sYnmh1URz"
      },
      "source": [
        "####Softmax cross entropy"
      ]
    },
    {
      "cell_type": "code",
      "metadata": {
        "id": "B4DPGtXt4jW1"
      },
      "source": [
        "class softmax_cross_entropy_t: \n",
        "\n",
        "  def forward(self, x_in, y_true): \n",
        "    exp = np.exp(x_in - np.max(x_in, axis=1, keepdims=True))\n",
        "    out = exp/np.sum(exp, axis=1, keepdims=True)\n",
        "    self.out = out\n",
        "    self.y_true = y_true\n",
        "    ny = len(out)\n",
        "    y_pred2 = np.clip(out, 1e-7, 1-1e-7)\n",
        "    correctprob = y_pred2[range(ny), y_true]\n",
        "    logl = -np.log(correctprob)\n",
        "    ell = np.mean(logl)\n",
        "\n",
        "    predictions = np.argmax(out, axis=1)\n",
        "    accuracy = 100*np.mean(predictions == y_true)\n",
        "    error = 100-accuracy\n",
        "    return ell, error\n",
        "\n",
        "  def backward(self):\n",
        "\n",
        "    ny = len(self.out)\n",
        "    self.dh_l = self.out.copy()\n",
        "    self.dh_l[range(ny),self.y_true]-=1\n",
        "    self.dh_l = self.dh_l/ny\n",
        "    return self.dh_l"
      ],
      "execution_count": 14,
      "outputs": []
    },
    {
      "cell_type": "markdown",
      "metadata": {
        "id": "ZkH79531Uvj8"
      },
      "source": [
        "##(e):"
      ]
    },
    {
      "cell_type": "markdown",
      "metadata": {
        "id": "yn9i3OEXilX7"
      },
      "source": [
        "####Checking forward propagation"
      ]
    },
    {
      "cell_type": "code",
      "metadata": {
        "colab": {
          "base_uri": "https://localhost:8080/"
        },
        "id": "pfcwGpcpz6ya",
        "outputId": "20b4bba3-35e2-4a31-b47f-1b65d9a9412a"
      },
      "source": [
        "l1 = linear_t(xtrain.shape[1], 10)\n",
        "out = l1.forward(xtrain[0])\n",
        "x = xtrain[0]\n",
        "print(out)"
      ],
      "execution_count": 15,
      "outputs": [
        {
          "output_type": "stream",
          "name": "stdout",
          "text": [
            "[[ 54.50597773  -3.01638654  87.40582439 -27.38428493 -18.24263338\n",
            "   58.96797529 -11.05028978  17.35701006 -43.70799736  75.27821642]]\n"
          ]
        }
      ]
    },
    {
      "cell_type": "code",
      "metadata": {
        "colab": {
          "base_uri": "https://localhost:8080/"
        },
        "id": "1-ZskQE_ajJy",
        "outputId": "82f7c156-84a9-4bbd-840f-d61a42a3ddf1"
      },
      "source": [
        "w = l1.w\n",
        "b = l1.b[0]\n",
        "x = xtrain[0]\n",
        "out1 = np.dot(x, w) + b\n",
        "print(out1)\n",
        "if((out==out1).all()):\n",
        "  print(\"\\nForward Prop Verified Succesfully!\")\n",
        "else:\n",
        "  print(\"\\nForward Prop Not Verified!\")"
      ],
      "execution_count": 16,
      "outputs": [
        {
          "output_type": "stream",
          "name": "stdout",
          "text": [
            "[ 54.50597773  -3.01638654  87.40582439 -27.38428493 -18.24263338\n",
            "  58.96797529 -11.05028978  17.35701006 -43.70799736  75.27821642]\n",
            "\n",
            "Forward Prop Verified Succesfully!\n"
          ]
        }
      ]
    },
    {
      "cell_type": "markdown",
      "metadata": {
        "id": "8_8zXQyXQfht"
      },
      "source": [
        "####Checking Back Propagation"
      ]
    },
    {
      "cell_type": "code",
      "metadata": {
        "id": "MuX3CdnotZme"
      },
      "source": [
        "def check(n_out, out_error, l1outb, l1):\n",
        "  yesdw=0; yesdb=0; yesh=0\n",
        "  for i in range(10):   #10 randomly chosen elements of W\n",
        "    eps1 = np.zeros((784, n_out))\n",
        "    x = np.random.randint(784)\n",
        "    y = np.random.randint(n_out)\n",
        "    eps1[x][y] += np.random.randn()\n",
        "    gradient1 = (np.dot(np.dot(xtrain[:1], l1.w+eps1), out_error.T) - np.dot(np.dot(xtrain[:1], l1.w-eps1), out_error.T))/(2*np.sum(eps1))\n",
        "    if(np.abs(gradient1[0,0] == l1.dw[x,y])): \n",
        "      yesdw+=1\n",
        "\n",
        "    eps3 = np.zeros((1, 784))\n",
        "    x = np.random.randint(1)\n",
        "    y = np.random.randint(784)\n",
        "    eps3[x, y] += np.random.randn()\n",
        "    gradient3 = (np.dot(np.dot(xtrain[:1]+eps3, l1.w), out_error.T) - np.dot(np.dot(xtrain[:1]-eps3, l1.w), out_error.T))/(2*np.sum(eps3))\n",
        "    if(np.abs(gradient3[0,0] - l1outb[x,y])<0.1): \n",
        "      yesh+=1\n",
        "\n",
        "  if(yesdw==10 and yesh==10):\n",
        "    print(\"Backward Prop Verified Successfully!\")\n",
        "\n"
      ],
      "execution_count": 17,
      "outputs": []
    },
    {
      "cell_type": "code",
      "metadata": {
        "id": "5TDlbEK1uQkj",
        "colab": {
          "base_uri": "https://localhost:8080/"
        },
        "outputId": "4caacb32-4c87-4251-c530-1a63d3a03daf"
      },
      "source": [
        "for i in range(5):    \n",
        "  n_out = np.random.randint(100)\n",
        "  out_error = np.zeros(n_out)\n",
        "  random = np.random.randint(n_out)\n",
        "  out_error[random] = 1\n",
        "  out_error = out_error.reshape(1,-1)\n",
        "  l1 = linear_t(784, n_out)\n",
        "  l1out = l1.forward(xtrain[:1]) \n",
        "  l1outb = l1.backward(out_error) \n",
        "  check(n_out, out_error, l1outb, l1)"
      ],
      "execution_count": 18,
      "outputs": [
        {
          "output_type": "stream",
          "name": "stdout",
          "text": [
            "Backward Prop Verified Successfully!\n",
            "Backward Prop Verified Successfully!\n",
            "Backward Prop Verified Successfully!\n",
            "Backward Prop Verified Successfully!\n",
            "Backward Prop Verified Successfully!\n"
          ]
        }
      ]
    },
    {
      "cell_type": "markdown",
      "metadata": {
        "id": "MzkMR-0yTn_6"
      },
      "source": [
        "##(g):\n",
        "####Validation function"
      ]
    },
    {
      "cell_type": "code",
      "metadata": {
        "id": "LHRPp5WgcQx3"
      },
      "source": [
        "def validate():\n",
        "  ellfull = []\n",
        "  errorfull = []\n",
        "  loss, tot_error = 0, 0\n",
        "  for i in range(0, 5000, 32):\n",
        "    x, y = xval[i:i+32], yval[i:i+32] \n",
        "    l1out = l1.forward(x) \n",
        "    relout = rel.forward(l1out)\n",
        "    l2out = l2.forward(relout)\n",
        "    ell, error = smce.forward(l2out, y)\n",
        "    ellfull = np.append(ellfull, ell)\n",
        "    errorfull = np.append(errorfull,error)\n",
        "  print(\"VALIDATION------------------------> Validation Loss: \",np.mean(ellfull),\"    Validation Error: \", np.mean(errorfull),\"%\")\n",
        "  return np.mean(ellfull), np.mean(errorfull)"
      ],
      "execution_count": 19,
      "outputs": []
    },
    {
      "cell_type": "markdown",
      "metadata": {
        "id": "b2zArtMNT_BI"
      },
      "source": [
        "####Training the Neural Network"
      ]
    },
    {
      "cell_type": "markdown",
      "metadata": {
        "id": "oa8ByCYsUoB2"
      },
      "source": [
        "##(f):\n"
      ]
    },
    {
      "cell_type": "code",
      "metadata": {
        "colab": {
          "base_uri": "https://localhost:8080/"
        },
        "id": "yMCy7jE6NXcB",
        "outputId": "7f06b8cb-3e97-498f-b316-dbd6f32b632d"
      },
      "source": [
        "ellfull=[]\n",
        "errorfull=[]\n",
        "ellvalfull=[]\n",
        "errorvalfull=[]\n",
        "lr=0.0005\n",
        "#Initializing all the layers\n",
        "l1, rel, l2, smce = linear_t(784, 64), relu_t(), linear_t(64, 10), softmax_cross_entropy_t()\n",
        "#Training for 10000 iterations\n",
        "for t in range(10000):\n",
        "  batch_size = 32\n",
        "  idx = np.random.choice(xtrain.shape[0], batch_size, replace=False)\n",
        "  x, y = xtrain[idx], ytrain[idx]\n",
        "  if(t!=0):\n",
        "    l1.zero_grad()\n",
        "    l2.zero_grad()\n",
        "  #forward pass\n",
        "  l1out = l1.forward(x) \n",
        "  relout = rel.forward(l1out)\n",
        "  l2out = l2.forward(relout)\n",
        "  ell, error = smce.forward(l2out, y)\n",
        "  if(t%1000==0):\n",
        "    ellfull = np.append(ellfull, ell)\n",
        "    errorfull = np.append(errorfull, error)\n",
        "    ellval, errorval = validate()\n",
        "    ellvalfull = np.append(ellvalfull,ellval)\n",
        "    errorvalfull = np.append(errorvalfull, errorval)\n",
        "  # backward pass\n",
        "  smce.backward()\n",
        "  l2.backward(smce.dh_l)\n",
        "  rel.backward(l2.dh_l)\n",
        "  l1.backward(rel.dh_l)\n",
        "  # gathering backprop gradients\n",
        "  dw1, db1 = l1.dw, l1.db\n",
        "  dw2, db2 = l2.dw, l2.db\n",
        "  # printing some quantities for logging\n",
        "  # and debugging\n",
        "  if(t%100==0):print(t+1, \"Training Loss: \",ell,\"    Training Error: \", error,\"%\")\n",
        "  # 7. one step of SGD\n",
        "  l1.w = l1.w - lr*dw1\n",
        "  l1.b = l1.b - lr*db1\n",
        "  l2.w = l2.w - lr*dw2\n",
        "  l2.b = l2.b - lr*db2 \n",
        "\n"
      ],
      "execution_count": 20,
      "outputs": [
        {
          "output_type": "stream",
          "name": "stdout",
          "text": [
            "VALIDATION------------------------> Validation Loss:  3.9661216672137214     Validation Error:  87.63933121019109 %\n",
            "1 Training Loss:  3.455555404471932     Training Error:  81.25 %\n",
            "101 Training Loss:  0.7819649453474573     Training Error:  18.75 %\n",
            "201 Training Loss:  0.33321642544456653     Training Error:  6.25 %\n",
            "301 Training Loss:  0.1814755223261661     Training Error:  9.375 %\n",
            "401 Training Loss:  0.23474540504494715     Training Error:  6.25 %\n",
            "501 Training Loss:  0.32771297659200643     Training Error:  9.375 %\n",
            "601 Training Loss:  0.1663318502292806     Training Error:  6.25 %\n",
            "701 Training Loss:  0.4452137003561924     Training Error:  15.625 %\n",
            "801 Training Loss:  0.21246393213387627     Training Error:  6.25 %\n",
            "901 Training Loss:  0.03547604953903051     Training Error:  0.0 %\n",
            "VALIDATION------------------------> Validation Loss:  0.1887299198167605     Validation Error:  5.931528662420382 %\n",
            "1001 Training Loss:  0.30178519784599883     Training Error:  9.375 %\n",
            "1101 Training Loss:  0.07937085024148341     Training Error:  0.0 %\n",
            "1201 Training Loss:  0.051470834013249846     Training Error:  0.0 %\n",
            "1301 Training Loss:  0.18946082513613474     Training Error:  6.25 %\n",
            "1401 Training Loss:  0.1034570895401391     Training Error:  6.25 %\n",
            "1501 Training Loss:  0.2263747673536265     Training Error:  12.5 %\n",
            "1601 Training Loss:  0.046173122003429906     Training Error:  3.125 %\n",
            "1701 Training Loss:  0.0318697198007105     Training Error:  0.0 %\n",
            "1801 Training Loss:  0.15497748743295164     Training Error:  6.25 %\n",
            "1901 Training Loss:  0.26945794300381154     Training Error:  6.25 %\n",
            "VALIDATION------------------------> Validation Loss:  0.16210893053662662     Validation Error:  5.095541401273885 %\n",
            "2001 Training Loss:  0.1262367601553423     Training Error:  3.125 %\n",
            "2101 Training Loss:  0.10971192138322136     Training Error:  3.125 %\n",
            "2201 Training Loss:  0.033741389010347594     Training Error:  0.0 %\n",
            "2301 Training Loss:  0.15059886325233862     Training Error:  3.125 %\n",
            "2401 Training Loss:  0.2975616112144645     Training Error:  15.625 %\n",
            "2501 Training Loss:  0.31380750406378927     Training Error:  9.375 %\n",
            "2601 Training Loss:  0.07529566092970709     Training Error:  0.0 %\n",
            "2701 Training Loss:  0.02260564902942176     Training Error:  0.0 %\n",
            "2801 Training Loss:  0.03896237057246407     Training Error:  3.125 %\n",
            "2901 Training Loss:  0.09989254706416605     Training Error:  3.125 %\n",
            "VALIDATION------------------------> Validation Loss:  0.14061525076955345     Validation Error:  4.319267515923567 %\n",
            "3001 Training Loss:  0.18510240049896812     Training Error:  9.375 %\n",
            "3101 Training Loss:  0.04189446803385572     Training Error:  0.0 %\n",
            "3201 Training Loss:  0.021557599894017836     Training Error:  0.0 %\n",
            "3301 Training Loss:  0.05174244587743289     Training Error:  3.125 %\n",
            "3401 Training Loss:  0.06424966690401623     Training Error:  0.0 %\n",
            "3501 Training Loss:  0.13376719045605234     Training Error:  3.125 %\n",
            "3601 Training Loss:  0.05462700191680381     Training Error:  3.125 %\n",
            "3701 Training Loss:  0.08521776930013664     Training Error:  3.125 %\n",
            "3801 Training Loss:  0.03612114966068643     Training Error:  0.0 %\n",
            "3901 Training Loss:  0.07636845461985493     Training Error:  0.0 %\n",
            "VALIDATION------------------------> Validation Loss:  0.14332840636632674     Validation Error:  4.3789808917197455 %\n",
            "4001 Training Loss:  0.0194002949710696     Training Error:  0.0 %\n",
            "4101 Training Loss:  0.025869381279291708     Training Error:  0.0 %\n",
            "4201 Training Loss:  0.008865841828991602     Training Error:  0.0 %\n",
            "4301 Training Loss:  0.11971959536348498     Training Error:  6.25 %\n",
            "4401 Training Loss:  0.030170969992087432     Training Error:  0.0 %\n",
            "4501 Training Loss:  0.07165716409249573     Training Error:  3.125 %\n",
            "4601 Training Loss:  0.0771488447307202     Training Error:  3.125 %\n",
            "4701 Training Loss:  0.018536294838861933     Training Error:  0.0 %\n",
            "4801 Training Loss:  0.033959874239378476     Training Error:  0.0 %\n",
            "4901 Training Loss:  0.10394967850155762     Training Error:  3.125 %\n",
            "VALIDATION------------------------> Validation Loss:  0.1258822525793641     Validation Error:  3.9211783439490446 %\n",
            "5001 Training Loss:  0.036003468342568415     Training Error:  0.0 %\n",
            "5101 Training Loss:  0.020341323262314706     Training Error:  0.0 %\n",
            "5201 Training Loss:  0.012148993613278862     Training Error:  0.0 %\n",
            "5301 Training Loss:  0.009640863641836164     Training Error:  0.0 %\n",
            "5401 Training Loss:  0.1502882407754434     Training Error:  6.25 %\n",
            "5501 Training Loss:  0.006500282375676976     Training Error:  0.0 %\n",
            "5601 Training Loss:  0.02525126203087437     Training Error:  0.0 %\n",
            "5701 Training Loss:  0.022352906415330692     Training Error:  0.0 %\n",
            "5801 Training Loss:  0.03218387714579127     Training Error:  0.0 %\n",
            "5901 Training Loss:  0.027107640080214736     Training Error:  0.0 %\n",
            "VALIDATION------------------------> Validation Loss:  0.13025322194933622     Validation Error:  3.7420382165605095 %\n",
            "6001 Training Loss:  0.1353100679052819     Training Error:  3.125 %\n",
            "6101 Training Loss:  0.06760076356861816     Training Error:  3.125 %\n",
            "6201 Training Loss:  0.038422797222749466     Training Error:  0.0 %\n",
            "6301 Training Loss:  0.07708476781035459     Training Error:  3.125 %\n",
            "6401 Training Loss:  0.06979591345591507     Training Error:  0.0 %\n",
            "6501 Training Loss:  0.17991539434532716     Training Error:  6.25 %\n",
            "6601 Training Loss:  0.11550733934354854     Training Error:  3.125 %\n",
            "6701 Training Loss:  0.02780185065650137     Training Error:  0.0 %\n",
            "6801 Training Loss:  0.013187158783769855     Training Error:  0.0 %\n",
            "6901 Training Loss:  0.06134594750245708     Training Error:  3.125 %\n",
            "VALIDATION------------------------> Validation Loss:  0.12717745892728458     Validation Error:  3.7619426751592355 %\n",
            "7001 Training Loss:  0.016005683253932056     Training Error:  0.0 %\n",
            "7101 Training Loss:  0.01809467773686495     Training Error:  0.0 %\n",
            "7201 Training Loss:  0.10644237551241581     Training Error:  3.125 %\n",
            "7301 Training Loss:  0.1076069898818682     Training Error:  6.25 %\n",
            "7401 Training Loss:  0.044912921636333515     Training Error:  0.0 %\n",
            "7501 Training Loss:  0.027265285657266877     Training Error:  0.0 %\n",
            "7601 Training Loss:  0.006764035967685219     Training Error:  0.0 %\n",
            "7701 Training Loss:  0.14818405971976314     Training Error:  9.375 %\n",
            "7801 Training Loss:  0.016677571567923596     Training Error:  0.0 %\n",
            "7901 Training Loss:  0.16122687221797416     Training Error:  3.125 %\n",
            "VALIDATION------------------------> Validation Loss:  0.1294542841116704     Validation Error:  3.5031847133757963 %\n",
            "8001 Training Loss:  0.0471763846907467     Training Error:  0.0 %\n",
            "8101 Training Loss:  0.4275232657739618     Training Error:  3.125 %\n",
            "8201 Training Loss:  0.0623196117514889     Training Error:  0.0 %\n",
            "8301 Training Loss:  0.02409191250722995     Training Error:  0.0 %\n",
            "8401 Training Loss:  0.005681961037427889     Training Error:  0.0 %\n",
            "8501 Training Loss:  0.027958053008032793     Training Error:  0.0 %\n",
            "8601 Training Loss:  0.02142116410942229     Training Error:  0.0 %\n",
            "8701 Training Loss:  0.014358637527667325     Training Error:  0.0 %\n",
            "8801 Training Loss:  0.013927317334473294     Training Error:  0.0 %\n",
            "8901 Training Loss:  0.02671079918909916     Training Error:  0.0 %\n",
            "VALIDATION------------------------> Validation Loss:  0.12937201278568586     Validation Error:  3.6823248407643314 %\n",
            "9001 Training Loss:  0.0034204376813761162     Training Error:  0.0 %\n",
            "9101 Training Loss:  0.017726360177655182     Training Error:  0.0 %\n",
            "9201 Training Loss:  0.029158715470089663     Training Error:  0.0 %\n",
            "9301 Training Loss:  0.0011749893101220307     Training Error:  0.0 %\n",
            "9401 Training Loss:  0.01106615408758884     Training Error:  0.0 %\n",
            "9501 Training Loss:  0.0408275540237225     Training Error:  3.125 %\n",
            "9601 Training Loss:  0.018700969274308112     Training Error:  0.0 %\n",
            "9701 Training Loss:  0.02650803191464913     Training Error:  0.0 %\n",
            "9801 Training Loss:  0.10262646492753516     Training Error:  3.125 %\n",
            "9901 Training Loss:  0.006872377678485028     Training Error:  0.0 %\n"
          ]
        }
      ]
    },
    {
      "cell_type": "markdown",
      "metadata": {
        "id": "6GVW1hJxUDvr"
      },
      "source": [
        "####Plotting the Training Error and Loss"
      ]
    },
    {
      "cell_type": "code",
      "metadata": {
        "colab": {
          "base_uri": "https://localhost:8080/",
          "height": 641
        },
        "id": "V3BjfeYwl-2R",
        "outputId": "a7be7cb9-19ca-436d-84cc-bae7b692b287"
      },
      "source": [
        "epochs = range(1, 11)\n",
        "plt.figure(figsize=(5,3), dpi=100)\n",
        "plt.plot(epochs, ellfull, 'g', label='Training Loss')\n",
        "plt.title('Training loss learning curve')\n",
        "plt.xlabel('Epochs')\n",
        "plt.ylabel('Loss')\n",
        "plt.legend()\n",
        "plt.show()\n",
        "plt.figure(figsize=(5,3), dpi=100)\n",
        "plt.plot(epochs, errorfull, 'b', label='Training Error')\n",
        "plt.title('Training error learning curve')\n",
        "plt.xlabel('Number of weight updates')\n",
        "plt.ylabel('Loss')\n",
        "plt.legend()\n",
        "plt.show()"
      ],
      "execution_count": 21,
      "outputs": [
        {
          "output_type": "display_data",
          "data": {
            "image/png": "[encoded data removed]",
            "text/plain": [
              "<Figure size 500x300 with 1 Axes>"
            ]
          },
          "metadata": {
            "needs_background": "light"
          }
        },
        {
          "output_type": "display_data",
          "data": {
            "image/png": "[encoded data removed]",
            "text/plain": [
              "<Figure size 500x300 with 1 Axes>"
            ]
          },
          "metadata": {
            "needs_background": "light"
          }
        }
      ]
    },
    {
      "cell_type": "markdown",
      "metadata": {
        "id": "_fKUJQstUHvM"
      },
      "source": [
        "####Plotting the Validation Error and Loss"
      ]
    },
    {
      "cell_type": "code",
      "metadata": {
        "colab": {
          "base_uri": "https://localhost:8080/",
          "height": 641
        },
        "id": "CH9s_ZoKxUV1",
        "outputId": "4a4362f6-5378-4330-b2bd-61f0dd44843c"
      },
      "source": [
        "epochs = range(1, 11)\n",
        "plt.figure(figsize=(5,3), dpi=100)\n",
        "plt.plot(epochs, ellvalfull, 'g', label='Validation Loss')\n",
        "plt.title('Validation Loss')\n",
        "plt.xlabel('Number of weight updates')\n",
        "plt.ylabel('Validation Loss')\n",
        "plt.legend()\n",
        "plt.show()\n",
        "plt.figure(figsize=(5,3), dpi=100)\n",
        "plt.plot(epochs, errorvalfull, 'b', label='Validation Error')\n",
        "plt.title('Validation Error')\n",
        "plt.xlabel('Number of weight updates')\n",
        "plt.ylabel('Validation Error')\n",
        "plt.legend()\n",
        "plt.show()"
      ],
      "execution_count": 22,
      "outputs": [
        {
          "output_type": "display_data",
          "data": {
            "image/png": "[encoded data removed]",
            "text/plain": [
              "<Figure size 500x300 with 1 Axes>"
            ]
          },
          "metadata": {
            "needs_background": "light"
          }
        },
        {
          "output_type": "display_data",
          "data": {
            "image/png": "[encoded data removed]",
            "text/plain": [
              "<Figure size 500x300 with 1 Axes>"
            ]
          },
          "metadata": {
            "needs_background": "light"
          }
        }
      ]
    },
    {
      "cell_type": "markdown",
      "metadata": {
        "id": "i03VVeC8U1Ij"
      },
      "source": [
        "##(h):\n",
        "####Creating a neural network in Pytorch"
      ]
    },
    {
      "cell_type": "code",
      "metadata": {
        "id": "PMSOEMyh34Jf"
      },
      "source": [
        "import torch\n",
        "import torch.nn as nn\n",
        "import torch.optim as optim\n",
        "import torchvision\n",
        "import torch.nn.functional as fns\n",
        "from torch.utils.data import DataLoader\n",
        "import torchvision.datasets as datasets \n",
        "import torchvision.transforms as transforms\n"
      ],
      "execution_count": 31,
      "outputs": []
    },
    {
      "cell_type": "markdown",
      "metadata": {
        "id": "X7XBiUQGz2no"
      },
      "source": [
        "####Creating the Neural network model"
      ]
    },
    {
      "cell_type": "code",
      "metadata": {
        "id": "xxoeBPYGVlnt"
      },
      "source": [
        "class Net(nn.Module):\n",
        "    def __init__(self, n_inp, num_classes):\n",
        "        super(Net, self).__init__()\n",
        "        self.l1 = nn.Linear(n_inp, 64)\n",
        "        self.l2 = nn.Linear(64, num_classes)\n",
        "\n",
        "    def forward(self, x):\n",
        "        x = fns.relu(self.l1(x))\n",
        "        x = self.l2(x)\n",
        "        out = fns.log_softmax(x, dim=1)\n",
        "        return out\n"
      ],
      "execution_count": 32,
      "outputs": []
    },
    {
      "cell_type": "code",
      "metadata": {
        "id": "I_HB_G-KX1m4"
      },
      "source": [
        "n_inp = 784\n",
        "num_classes = 10\n",
        "learning_rate = 0.002\n",
        "net = Net(n_inp, num_classes)"
      ],
      "execution_count": 33,
      "outputs": []
    },
    {
      "cell_type": "code",
      "metadata": {
        "id": "y0ex0T6SYyan"
      },
      "source": [
        "smce = nn.CrossEntropyLoss()\n",
        "optimizer = optim.SGD(net.parameters(), lr=learning_rate)\n",
        "train_dataset = datasets.MNIST(train=True, transform=transforms.ToTensor(), root=\"dataset/\", download=True)\n",
        "train_loader = DataLoader(dataset=train_dataset, batch_size=16, shuffle=True)\n",
        "val_dataset = datasets.MNIST(train=False, transform=transforms.ToTensor(), root=\"dataset/\", download=True)\n",
        "val_loader = DataLoader(dataset=val_dataset, batch_size=16, shuffle=True)"
      ],
      "execution_count": 34,
      "outputs": []
    },
    {
      "cell_type": "markdown",
      "metadata": {
        "id": "7jVVh6ho0H4K"
      },
      "source": [
        "####Function to obtain validation loss and error"
      ]
    },
    {
      "cell_type": "code",
      "metadata": {
        "id": "FujxqnKmhA94"
      },
      "source": [
        "def validation():\n",
        "  correct = 0\n",
        "  net.eval()\n",
        "  for x_in, target in val_loader:\n",
        "      x_in = x_in.reshape(x_in.shape[0], -1) \n",
        "      out = net(x_in)\n",
        "      loss=smce(out,targets)\n",
        "      delete, pred = out.max(1)\n",
        "      correct += (pred == target).sum()\n",
        "  accuracy = correct / len(val_dataset) * 100\n",
        "  error = 100-accuracy\n",
        "  return error, loss"
      ],
      "execution_count": 35,
      "outputs": []
    },
    {
      "cell_type": "markdown",
      "metadata": {
        "id": "nNx0azBS0Ulh"
      },
      "source": [
        "####Training the model"
      ]
    },
    {
      "cell_type": "code",
      "metadata": {
        "colab": {
          "base_uri": "https://localhost:8080/"
        },
        "id": "1aPcrEdaZl6g",
        "outputId": "5c54b348-d49a-4747-97a7-0b19a7b9245a"
      },
      "source": [
        "count = 0\n",
        "valerr = []\n",
        "valloss = []\n",
        "trainloss = []\n",
        "trainerr = []\n",
        "correct = 0\n",
        "for i in range(10):\n",
        "  for data, targets in train_loader:\n",
        "    count+=1\n",
        "    data = data.reshape(data.shape[0], -1) \n",
        "    scores = net(data)\n",
        "    loss = smce(scores, targets)\n",
        "    delete, pred = scores.max(1)\n",
        "    correct += (pred == targets).sum()\n",
        "    if(count%50==0):\n",
        "      valerror, ell = validation()\n",
        "      lossnp = ell.detach().numpy()\n",
        "      valerrornp = valerror.detach().numpy()\n",
        "      valerr = np.append(valerr, valerrornp)\n",
        "      valloss = np.append(valloss, lossnp)\n",
        "      trainloss = np.append(trainloss, loss.detach().numpy())\n",
        "      accuracy = correct / count * 100\n",
        "      error = 100-accuracy\n",
        "      trainerr = np.append(trainerr, error.detach().numpy())\n",
        "      print(count, \"  Training Loss : \", loss.item())\n",
        "      print(\"Valdation Loss   :   \", lossnp, \"------   Validation Error   :   \", valerrornp)\n",
        "    optimizer.zero_grad()\n",
        "    loss.backward()\n",
        "    optimizer.step()\n"
      ],
      "execution_count": 36,
      "outputs": [
        {
          "output_type": "stream",
          "name": "stdout",
          "text": [
            "50   Training Loss :  2.2900426387786865\n",
            "Valdation Loss   :    2.3240373 ------   Validation Error   :    90.22\n",
            "100   Training Loss :  2.307018280029297\n",
            "Valdation Loss   :    2.3487368 ------   Validation Error   :    89.86\n",
            "150   Training Loss :  2.3019912242889404\n",
            "Valdation Loss   :    2.3425512 ------   Validation Error   :    88.16\n",
            "200   Training Loss :  2.1969308853149414\n",
            "Valdation Loss   :    2.2999065 ------   Validation Error   :    84.81\n",
            "250   Training Loss :  2.236830472946167\n",
            "Valdation Loss   :    2.3166988 ------   Validation Error   :    81.17\n",
            "300   Training Loss :  2.231407642364502\n",
            "Valdation Loss   :    2.2912343 ------   Validation Error   :    79.83\n",
            "350   Training Loss :  2.1640584468841553\n",
            "Valdation Loss   :    2.210433 ------   Validation Error   :    74.21\n",
            "400   Training Loss :  2.129856586456299\n",
            "Valdation Loss   :    2.2258382 ------   Validation Error   :    69.41\n",
            "450   Training Loss :  2.162184000015259\n",
            "Valdation Loss   :    2.3381236 ------   Validation Error   :    66.82\n",
            "500   Training Loss :  2.120147228240967\n",
            "Valdation Loss   :    2.3088887 ------   Validation Error   :    61.61\n",
            "550   Training Loss :  2.1038272380828857\n",
            "Valdation Loss   :    2.2419508 ------   Validation Error   :    52.93\n",
            "600   Training Loss :  2.118494749069214\n",
            "Valdation Loss   :    2.3293324 ------   Validation Error   :    47.030003\n",
            "650   Training Loss :  1.992177963256836\n",
            "Valdation Loss   :    2.2539022 ------   Validation Error   :    41.86\n",
            "700   Training Loss :  2.036998748779297\n",
            "Valdation Loss   :    2.327672 ------   Validation Error   :    39.0\n",
            "750   Training Loss :  2.0091488361358643\n",
            "Valdation Loss   :    2.2833207 ------   Validation Error   :    35.739998\n",
            "800   Training Loss :  1.9764410257339478\n",
            "Valdation Loss   :    2.3373165 ------   Validation Error   :    33.92\n",
            "850   Training Loss :  1.9187477827072144\n",
            "Valdation Loss   :    2.2444687 ------   Validation Error   :    31.400002\n",
            "900   Training Loss :  1.8978018760681152\n",
            "Valdation Loss   :    2.3058894 ------   Validation Error   :    28.720001\n",
            "950   Training Loss :  1.7887755632400513\n",
            "Valdation Loss   :    2.365695 ------   Validation Error   :    26.020004\n",
            "1000   Training Loss :  1.7438254356384277\n",
            "Valdation Loss   :    2.2050233 ------   Validation Error   :    24.699997\n",
            "1050   Training Loss :  1.78721284866333\n",
            "Valdation Loss   :    2.1568978 ------   Validation Error   :    25.54\n",
            "1100   Training Loss :  1.7878350019454956\n",
            "Valdation Loss   :    2.3265054 ------   Validation Error   :    24.75\n",
            "1150   Training Loss :  1.826488971710205\n",
            "Valdation Loss   :    2.195628 ------   Validation Error   :    24.989998\n",
            "1200   Training Loss :  1.5573676824569702\n",
            "Valdation Loss   :    2.1501305 ------   Validation Error   :    24.800003\n",
            "1250   Training Loss :  1.5096447467803955\n",
            "Valdation Loss   :    2.544667 ------   Validation Error   :    25.199997\n",
            "1300   Training Loss :  1.738059163093567\n",
            "Valdation Loss   :    2.4886682 ------   Validation Error   :    23.879997\n",
            "1350   Training Loss :  1.4759514331817627\n",
            "Valdation Loss   :    2.5113795 ------   Validation Error   :    23.629997\n",
            "1400   Training Loss :  1.4748308658599854\n",
            "Valdation Loss   :    2.310951 ------   Validation Error   :    22.759995\n",
            "1450   Training Loss :  1.4797314405441284\n",
            "Valdation Loss   :    2.3453994 ------   Validation Error   :    22.419998\n",
            "1500   Training Loss :  1.5340677499771118\n",
            "Valdation Loss   :    2.6141107 ------   Validation Error   :    22.979996\n",
            "1550   Training Loss :  1.481938123703003\n",
            "Valdation Loss   :    2.7055476 ------   Validation Error   :    22.799995\n",
            "1600   Training Loss :  1.2349225282669067\n",
            "Valdation Loss   :    2.525584 ------   Validation Error   :    22.220001\n",
            "1650   Training Loss :  1.517844796180725\n",
            "Valdation Loss   :    2.376967 ------   Validation Error   :    21.779999\n",
            "1700   Training Loss :  1.406882882118225\n",
            "Valdation Loss   :    2.5299106 ------   Validation Error   :    21.54\n",
            "1750   Training Loss :  1.201653003692627\n",
            "Valdation Loss   :    2.3759356 ------   Validation Error   :    20.730003\n",
            "1800   Training Loss :  1.4445465803146362\n",
            "Valdation Loss   :    2.592876 ------   Validation Error   :    21.32\n",
            "1850   Training Loss :  1.296346664428711\n",
            "Valdation Loss   :    2.743628 ------   Validation Error   :    20.39\n",
            "1900   Training Loss :  1.3462553024291992\n",
            "Valdation Loss   :    2.6020305 ------   Validation Error   :    20.5\n",
            "1950   Training Loss :  1.277301549911499\n",
            "Valdation Loss   :    3.1682363 ------   Validation Error   :    20.099998\n",
            "2000   Training Loss :  1.5190253257751465\n",
            "Valdation Loss   :    2.623611 ------   Validation Error   :    20.620003\n",
            "2050   Training Loss :  1.1231863498687744\n",
            "Valdation Loss   :    2.7010677 ------   Validation Error   :    20.550003\n",
            "2100   Training Loss :  1.0314788818359375\n",
            "Valdation Loss   :    2.6503453 ------   Validation Error   :    20.349998\n",
            "2150   Training Loss :  1.2595771551132202\n",
            "Valdation Loss   :    2.2254314 ------   Validation Error   :    20.220001\n",
            "2200   Training Loss :  1.1856684684753418\n",
            "Valdation Loss   :    2.9095964 ------   Validation Error   :    20.010002\n",
            "2250   Training Loss :  0.9184936881065369\n",
            "Valdation Loss   :    2.8594759 ------   Validation Error   :    19.46\n",
            "2300   Training Loss :  1.1583607196807861\n",
            "Valdation Loss   :    2.9335375 ------   Validation Error   :    18.839996\n",
            "2350   Training Loss :  1.1055601835250854\n",
            "Valdation Loss   :    3.1693633 ------   Validation Error   :    18.669998\n",
            "2400   Training Loss :  1.0764862298965454\n",
            "Valdation Loss   :    3.203312 ------   Validation Error   :    18.419998\n",
            "2450   Training Loss :  0.9583258628845215\n",
            "Valdation Loss   :    2.8210518 ------   Validation Error   :    17.919998\n",
            "2500   Training Loss :  1.2228635549545288\n",
            "Valdation Loss   :    2.461536 ------   Validation Error   :    18.370003\n",
            "2550   Training Loss :  1.024244785308838\n",
            "Valdation Loss   :    3.5927396 ------   Validation Error   :    17.54\n",
            "2600   Training Loss :  0.8363378047943115\n",
            "Valdation Loss   :    3.0484877 ------   Validation Error   :    17.18\n",
            "2650   Training Loss :  0.9358041286468506\n",
            "Valdation Loss   :    3.13464 ------   Validation Error   :    17.18\n",
            "2700   Training Loss :  0.8444418907165527\n",
            "Valdation Loss   :    3.661434 ------   Validation Error   :    16.629997\n",
            "2750   Training Loss :  1.0773217678070068\n",
            "Valdation Loss   :    2.8737917 ------   Validation Error   :    16.599998\n",
            "2800   Training Loss :  0.7115488648414612\n",
            "Valdation Loss   :    3.6099854 ------   Validation Error   :    16.469994\n",
            "2850   Training Loss :  0.8941200971603394\n",
            "Valdation Loss   :    2.9662232 ------   Validation Error   :    16.57\n",
            "2900   Training Loss :  1.018618106842041\n",
            "Valdation Loss   :    2.9096572 ------   Validation Error   :    16.699997\n",
            "2950   Training Loss :  0.9203805923461914\n",
            "Valdation Loss   :    3.7612898 ------   Validation Error   :    16.720001\n",
            "3000   Training Loss :  0.6662042140960693\n",
            "Valdation Loss   :    3.3728952 ------   Validation Error   :    16.669998\n",
            "3050   Training Loss :  0.8650972843170166\n",
            "Valdation Loss   :    3.6824403 ------   Validation Error   :    16.39\n",
            "3100   Training Loss :  1.0324420928955078\n",
            "Valdation Loss   :    3.363641 ------   Validation Error   :    16.07\n",
            "3150   Training Loss :  0.7618066668510437\n",
            "Valdation Loss   :    3.1741579 ------   Validation Error   :    15.889999\n",
            "3200   Training Loss :  0.7717030048370361\n",
            "Valdation Loss   :    2.9847748 ------   Validation Error   :    15.949997\n",
            "3250   Training Loss :  0.5880971550941467\n",
            "Valdation Loss   :    3.9083958 ------   Validation Error   :    15.82\n",
            "3300   Training Loss :  0.9566295742988586\n",
            "Valdation Loss   :    3.5907843 ------   Validation Error   :    15.909996\n",
            "3350   Training Loss :  0.7714475393295288\n",
            "Valdation Loss   :    3.8672655 ------   Validation Error   :    15.650002\n",
            "3400   Training Loss :  0.5327696800231934\n",
            "Valdation Loss   :    3.399538 ------   Validation Error   :    15.690002\n",
            "3450   Training Loss :  1.1378614902496338\n",
            "Valdation Loss   :    3.0932965 ------   Validation Error   :    15.32\n",
            "3500   Training Loss :  0.9674373865127563\n",
            "Valdation Loss   :    4.0090694 ------   Validation Error   :    15.200005\n",
            "3550   Training Loss :  0.6650724411010742\n",
            "Valdation Loss   :    3.8895423 ------   Validation Error   :    15.330002\n",
            "3600   Training Loss :  0.8741220235824585\n",
            "Valdation Loss   :    3.7067828 ------   Validation Error   :    15.370003\n",
            "3650   Training Loss :  0.6815497279167175\n",
            "Valdation Loss   :    4.776559 ------   Validation Error   :    15.160004\n",
            "3700   Training Loss :  0.9526782035827637\n",
            "Valdation Loss   :    4.372999 ------   Validation Error   :    14.889999\n",
            "3750   Training Loss :  0.6999386548995972\n",
            "Valdation Loss   :    3.7317617 ------   Validation Error   :    14.840004\n",
            "3800   Training Loss :  0.8454799056053162\n",
            "Valdation Loss   :    3.9007964 ------   Validation Error   :    14.480003\n",
            "3850   Training Loss :  0.9253450632095337\n",
            "Valdation Loss   :    2.9406762 ------   Validation Error   :    14.590004\n",
            "3900   Training Loss :  0.8203097581863403\n",
            "Valdation Loss   :    3.2077405 ------   Validation Error   :    14.68\n",
            "3950   Training Loss :  0.7229956388473511\n",
            "Valdation Loss   :    3.761315 ------   Validation Error   :    14.5\n",
            "4000   Training Loss :  0.6107328534126282\n",
            "Valdation Loss   :    3.8700583 ------   Validation Error   :    14.370003\n",
            "4050   Training Loss :  0.8895324468612671\n",
            "Valdation Loss   :    4.211527 ------   Validation Error   :    14.310005\n",
            "4100   Training Loss :  0.47331756353378296\n",
            "Valdation Loss   :    3.8338244 ------   Validation Error   :    14.360001\n",
            "4150   Training Loss :  0.6883484721183777\n",
            "Valdation Loss   :    4.067123 ------   Validation Error   :    14.349998\n",
            "4200   Training Loss :  0.7438575029373169\n",
            "Valdation Loss   :    3.9345863 ------   Validation Error   :    14.110001\n",
            "4250   Training Loss :  0.5608567595481873\n",
            "Valdation Loss   :    4.001658 ------   Validation Error   :    14.160004\n",
            "4300   Training Loss :  0.7433525919914246\n",
            "Valdation Loss   :    4.868219 ------   Validation Error   :    14.130005\n",
            "4350   Training Loss :  0.5538102984428406\n",
            "Valdation Loss   :    4.099616 ------   Validation Error   :    13.959999\n",
            "4400   Training Loss :  0.47419241070747375\n",
            "Valdation Loss   :    4.4526844 ------   Validation Error   :    13.950005\n",
            "4450   Training Loss :  0.5448682904243469\n",
            "Valdation Loss   :    5.0095425 ------   Validation Error   :    13.880005\n",
            "4500   Training Loss :  0.380977600812912\n",
            "Valdation Loss   :    4.0299177 ------   Validation Error   :    13.810005\n",
            "4550   Training Loss :  0.7507627010345459\n",
            "Valdation Loss   :    4.35786 ------   Validation Error   :    14.050003\n",
            "4600   Training Loss :  0.4692324697971344\n",
            "Valdation Loss   :    5.4616227 ------   Validation Error   :    13.760002\n",
            "4650   Training Loss :  0.3805229067802429\n",
            "Valdation Loss   :    5.5682616 ------   Validation Error   :    13.810005\n",
            "4700   Training Loss :  0.5314134955406189\n",
            "Valdation Loss   :    5.506754 ------   Validation Error   :    13.639999\n",
            "4750   Training Loss :  0.7168992757797241\n",
            "Valdation Loss   :    3.93233 ------   Validation Error   :    13.660004\n",
            "4800   Training Loss :  0.39693066477775574\n",
            "Valdation Loss   :    4.9163356 ------   Validation Error   :    13.669998\n",
            "4850   Training Loss :  0.5914809703826904\n",
            "Valdation Loss   :    4.200737 ------   Validation Error   :    13.559998\n",
            "4900   Training Loss :  0.9000625014305115\n",
            "Valdation Loss   :    5.381447 ------   Validation Error   :    13.559998\n",
            "4950   Training Loss :  0.6402496695518494\n",
            "Valdation Loss   :    3.8387861 ------   Validation Error   :    13.410004\n",
            "5000   Training Loss :  0.8225657939910889\n",
            "Valdation Loss   :    4.7056265 ------   Validation Error   :    13.389999\n",
            "5050   Training Loss :  0.5927397012710571\n",
            "Valdation Loss   :    4.1975694 ------   Validation Error   :    13.340004\n",
            "5100   Training Loss :  0.49641135334968567\n",
            "Valdation Loss   :    4.8095965 ------   Validation Error   :    13.059998\n",
            "5150   Training Loss :  0.5352047085762024\n",
            "Valdation Loss   :    4.859435 ------   Validation Error   :    13.0\n",
            "5200   Training Loss :  0.5321825742721558\n",
            "Valdation Loss   :    4.68128 ------   Validation Error   :    13.059998\n",
            "5250   Training Loss :  0.46911758184432983\n",
            "Valdation Loss   :    3.1592963 ------   Validation Error   :    13.010002\n",
            "5300   Training Loss :  0.5051297545433044\n",
            "Valdation Loss   :    4.5467324 ------   Validation Error   :    13.080002\n",
            "5350   Training Loss :  0.601613461971283\n",
            "Valdation Loss   :    3.721993 ------   Validation Error   :    13.029999\n",
            "5400   Training Loss :  0.771615207195282\n",
            "Valdation Loss   :    5.0824137 ------   Validation Error   :    12.910004\n",
            "5450   Training Loss :  0.9016290903091431\n",
            "Valdation Loss   :    5.4475 ------   Validation Error   :    12.989998\n",
            "5500   Training Loss :  0.5449281334877014\n",
            "Valdation Loss   :    5.197225 ------   Validation Error   :    12.860001\n",
            "5550   Training Loss :  0.45907464623451233\n",
            "Valdation Loss   :    5.2298174 ------   Validation Error   :    12.779999\n",
            "5600   Training Loss :  0.4585753381252289\n",
            "Valdation Loss   :    4.397234 ------   Validation Error   :    12.800003\n",
            "5650   Training Loss :  0.7164130806922913\n",
            "Valdation Loss   :    4.553692 ------   Validation Error   :    12.660004\n",
            "5700   Training Loss :  0.5385404825210571\n",
            "Valdation Loss   :    4.5369415 ------   Validation Error   :    12.699997\n",
            "5750   Training Loss :  0.7219411730766296\n",
            "Valdation Loss   :    4.168584 ------   Validation Error   :    12.629997\n",
            "5800   Training Loss :  0.4961857795715332\n",
            "Valdation Loss   :    3.9529727 ------   Validation Error   :    12.730003\n",
            "5850   Training Loss :  0.519389271736145\n",
            "Valdation Loss   :    5.4007144 ------   Validation Error   :    12.5\n",
            "5900   Training Loss :  0.5740665793418884\n",
            "Valdation Loss   :    5.267131 ------   Validation Error   :    12.610001\n",
            "5950   Training Loss :  0.3877235949039459\n",
            "Valdation Loss   :    4.616567 ------   Validation Error   :    12.449997\n",
            "6000   Training Loss :  0.5376676917076111\n",
            "Valdation Loss   :    3.8902953 ------   Validation Error   :    12.300003\n",
            "6050   Training Loss :  0.5315625071525574\n",
            "Valdation Loss   :    4.7211776 ------   Validation Error   :    12.209999\n",
            "6100   Training Loss :  0.6619500517845154\n",
            "Valdation Loss   :    4.1912885 ------   Validation Error   :    12.25\n",
            "6150   Training Loss :  0.41429823637008667\n",
            "Valdation Loss   :    5.2808614 ------   Validation Error   :    12.370003\n",
            "6200   Training Loss :  0.8787559866905212\n",
            "Valdation Loss   :    3.4309196 ------   Validation Error   :    12.25\n",
            "6250   Training Loss :  0.37973856925964355\n",
            "Valdation Loss   :    4.234266 ------   Validation Error   :    12.209999\n",
            "6300   Training Loss :  0.4108518064022064\n",
            "Valdation Loss   :    5.934065 ------   Validation Error   :    12.199997\n",
            "6350   Training Loss :  0.4655143618583679\n",
            "Valdation Loss   :    5.695268 ------   Validation Error   :    12.080002\n",
            "6400   Training Loss :  0.44535619020462036\n",
            "Valdation Loss   :    5.591824 ------   Validation Error   :    12.339996\n",
            "6450   Training Loss :  0.2792210578918457\n",
            "Valdation Loss   :    3.8473084 ------   Validation Error   :    12.050003\n",
            "6500   Training Loss :  0.7743518948554993\n",
            "Valdation Loss   :    5.100548 ------   Validation Error   :    12.040001\n",
            "6550   Training Loss :  0.4351606070995331\n",
            "Valdation Loss   :    5.111948 ------   Validation Error   :    11.93\n",
            "6600   Training Loss :  0.5330595374107361\n",
            "Valdation Loss   :    5.8637896 ------   Validation Error   :    11.970001\n",
            "6650   Training Loss :  0.5011574625968933\n",
            "Valdation Loss   :    4.062573 ------   Validation Error   :    11.93\n",
            "6700   Training Loss :  0.6723300218582153\n",
            "Valdation Loss   :    5.0249677 ------   Validation Error   :    11.839996\n",
            "6750   Training Loss :  0.42758384346961975\n",
            "Valdation Loss   :    5.658869 ------   Validation Error   :    11.879997\n",
            "6800   Training Loss :  0.5087426900863647\n",
            "Valdation Loss   :    4.7717357 ------   Validation Error   :    12.029999\n",
            "6850   Training Loss :  0.6124723553657532\n",
            "Valdation Loss   :    5.694808 ------   Validation Error   :    11.860001\n",
            "6900   Training Loss :  0.4454236626625061\n",
            "Valdation Loss   :    4.782553 ------   Validation Error   :    11.82\n",
            "6950   Training Loss :  0.44021445512771606\n",
            "Valdation Loss   :    4.2947674 ------   Validation Error   :    11.879997\n",
            "7000   Training Loss :  0.7543505430221558\n",
            "Valdation Loss   :    6.1502314 ------   Validation Error   :    11.790001\n",
            "7050   Training Loss :  0.25948071479797363\n",
            "Valdation Loss   :    6.095437 ------   Validation Error   :    11.739998\n",
            "7100   Training Loss :  0.26428914070129395\n",
            "Valdation Loss   :    5.0125074 ------   Validation Error   :    11.830002\n",
            "7150   Training Loss :  0.46233710646629333\n",
            "Valdation Loss   :    4.046831 ------   Validation Error   :    11.75\n",
            "7200   Training Loss :  0.4098797142505646\n",
            "Valdation Loss   :    6.837831 ------   Validation Error   :    11.659996\n",
            "7250   Training Loss :  0.25985410809516907\n",
            "Valdation Loss   :    5.2912827 ------   Validation Error   :    11.589996\n",
            "7300   Training Loss :  0.2822778820991516\n",
            "Valdation Loss   :    6.0926194 ------   Validation Error   :    11.639999\n",
            "7350   Training Loss :  0.4303942918777466\n",
            "Valdation Loss   :    5.2696543 ------   Validation Error   :    11.549995\n",
            "7400   Training Loss :  0.37935391068458557\n",
            "Valdation Loss   :    4.310748 ------   Validation Error   :    11.619995\n",
            "7450   Training Loss :  0.418502539396286\n",
            "Valdation Loss   :    4.324321 ------   Validation Error   :    11.589996\n",
            "7500   Training Loss :  0.25680094957351685\n",
            "Valdation Loss   :    4.8115034 ------   Validation Error   :    11.540001\n",
            "7550   Training Loss :  0.38300618529319763\n",
            "Valdation Loss   :    5.9767046 ------   Validation Error   :    11.519997\n",
            "7600   Training Loss :  0.409189373254776\n",
            "Valdation Loss   :    5.439847 ------   Validation Error   :    11.599998\n",
            "7650   Training Loss :  0.18205226957798004\n",
            "Valdation Loss   :    5.4992666 ------   Validation Error   :    11.529999\n",
            "7700   Training Loss :  0.726913571357727\n",
            "Valdation Loss   :    4.8892984 ------   Validation Error   :    11.510002\n",
            "7750   Training Loss :  0.2206188142299652\n",
            "Valdation Loss   :    5.5827737 ------   Validation Error   :    11.449997\n",
            "7800   Training Loss :  0.3906329274177551\n",
            "Valdation Loss   :    4.356713 ------   Validation Error   :    11.540001\n",
            "7850   Training Loss :  0.5972604155540466\n",
            "Valdation Loss   :    5.193865 ------   Validation Error   :    11.479996\n",
            "7900   Training Loss :  0.8071454763412476\n",
            "Valdation Loss   :    5.860079 ------   Validation Error   :    11.400002\n",
            "7950   Training Loss :  0.5941049456596375\n",
            "Valdation Loss   :    4.895346 ------   Validation Error   :    11.449997\n",
            "8000   Training Loss :  0.25963032245635986\n",
            "Valdation Loss   :    4.9594216 ------   Validation Error   :    11.349998\n",
            "8050   Training Loss :  0.8127682209014893\n",
            "Valdation Loss   :    5.3415737 ------   Validation Error   :    11.279999\n",
            "8100   Training Loss :  0.3562648594379425\n",
            "Valdation Loss   :    5.0182877 ------   Validation Error   :    11.349998\n",
            "8150   Training Loss :  0.6270173788070679\n",
            "Valdation Loss   :    5.8794017 ------   Validation Error   :    11.299995\n",
            "8200   Training Loss :  0.5631086826324463\n",
            "Valdation Loss   :    4.757707 ------   Validation Error   :    11.339996\n",
            "8250   Training Loss :  0.43177565932273865\n",
            "Valdation Loss   :    5.7002077 ------   Validation Error   :    11.349998\n",
            "8300   Training Loss :  0.4046500027179718\n",
            "Valdation Loss   :    5.16592 ------   Validation Error   :    11.360001\n",
            "8350   Training Loss :  0.1731608808040619\n",
            "Valdation Loss   :    6.0472555 ------   Validation Error   :    11.419998\n",
            "8400   Training Loss :  0.5169057250022888\n",
            "Valdation Loss   :    5.6745133 ------   Validation Error   :    11.299995\n",
            "8450   Training Loss :  0.5698450207710266\n",
            "Valdation Loss   :    5.5904036 ------   Validation Error   :    11.199997\n",
            "8500   Training Loss :  0.18768084049224854\n",
            "Valdation Loss   :    5.3312626 ------   Validation Error   :    11.229996\n",
            "8550   Training Loss :  0.21726132929325104\n",
            "Valdation Loss   :    6.3658047 ------   Validation Error   :    11.25\n",
            "8600   Training Loss :  0.5133315324783325\n",
            "Valdation Loss   :    4.9953 ------   Validation Error   :    11.229996\n",
            "8650   Training Loss :  0.4899454116821289\n",
            "Valdation Loss   :    5.5393424 ------   Validation Error   :    11.330002\n",
            "8700   Training Loss :  0.4460638463497162\n",
            "Valdation Loss   :    5.4563165 ------   Validation Error   :    11.18\n",
            "8750   Training Loss :  0.27949023246765137\n",
            "Valdation Loss   :    6.564058 ------   Validation Error   :    11.220001\n",
            "8800   Training Loss :  0.4931332468986511\n",
            "Valdation Loss   :    3.618874 ------   Validation Error   :    11.129997\n",
            "8850   Training Loss :  0.5352796316146851\n",
            "Valdation Loss   :    6.2996597 ------   Validation Error   :    11.049995\n",
            "8900   Training Loss :  0.516161322593689\n",
            "Valdation Loss   :    5.6763926 ------   Validation Error   :    10.970001\n",
            "8950   Training Loss :  0.18774941563606262\n",
            "Valdation Loss   :    6.576786 ------   Validation Error   :    10.970001\n",
            "9000   Training Loss :  0.3481671214103699\n",
            "Valdation Loss   :    5.289281 ------   Validation Error   :    11.0099945\n",
            "9050   Training Loss :  0.4651908874511719\n",
            "Valdation Loss   :    4.3645697 ------   Validation Error   :    10.889999\n",
            "9100   Training Loss :  0.34793493151664734\n",
            "Valdation Loss   :    4.561762 ------   Validation Error   :    10.979996\n",
            "9150   Training Loss :  0.2807101309299469\n",
            "Valdation Loss   :    4.374338 ------   Validation Error   :    10.949997\n",
            "9200   Training Loss :  0.3546409606933594\n",
            "Valdation Loss   :    6.65669 ------   Validation Error   :    10.809998\n",
            "9250   Training Loss :  0.41622236371040344\n",
            "Valdation Loss   :    5.671059 ------   Validation Error   :    10.809998\n",
            "9300   Training Loss :  0.32622644305229187\n",
            "Valdation Loss   :    5.817154 ------   Validation Error   :    10.82\n",
            "9350   Training Loss :  0.42259278893470764\n",
            "Valdation Loss   :    5.900316 ------   Validation Error   :    10.829994\n",
            "9400   Training Loss :  0.24481242895126343\n",
            "Valdation Loss   :    5.0095544 ------   Validation Error   :    10.779999\n",
            "9450   Training Loss :  0.1306612491607666\n",
            "Valdation Loss   :    7.1845255 ------   Validation Error   :    10.799995\n",
            "9500   Training Loss :  0.3522697687149048\n",
            "Valdation Loss   :    5.916728 ------   Validation Error   :    10.909996\n",
            "9550   Training Loss :  0.2752074599266052\n",
            "Valdation Loss   :    6.8981466 ------   Validation Error   :    10.869995\n",
            "9600   Training Loss :  0.249662384390831\n",
            "Valdation Loss   :    5.043383 ------   Validation Error   :    10.939995\n",
            "9650   Training Loss :  0.3461998999118805\n",
            "Valdation Loss   :    3.2525508 ------   Validation Error   :    10.839996\n",
            "9700   Training Loss :  0.39898765087127686\n",
            "Valdation Loss   :    7.086406 ------   Validation Error   :    10.729996\n",
            "9750   Training Loss :  0.21445587277412415\n",
            "Valdation Loss   :    5.3994503 ------   Validation Error   :    10.769997\n",
            "9800   Training Loss :  0.18571527302265167\n",
            "Valdation Loss   :    6.309096 ------   Validation Error   :    10.739998\n",
            "9850   Training Loss :  0.7868760228157043\n",
            "Valdation Loss   :    7.131478 ------   Validation Error   :    10.669998\n",
            "9900   Training Loss :  0.4023890793323517\n",
            "Valdation Loss   :    7.114345 ------   Validation Error   :    10.659996\n",
            "9950   Training Loss :  0.5391303300857544\n",
            "Valdation Loss   :    5.428766 ------   Validation Error   :    10.619995\n",
            "10000   Training Loss :  0.1933288276195526\n",
            "Valdation Loss   :    5.835855 ------   Validation Error   :    10.610001\n",
            "10050   Training Loss :  0.3601072430610657\n",
            "Valdation Loss   :    6.6957006 ------   Validation Error   :    10.559998\n",
            "10100   Training Loss :  0.4405401945114136\n",
            "Valdation Loss   :    6.004377 ------   Validation Error   :    10.529999\n",
            "10150   Training Loss :  0.22145788371562958\n",
            "Valdation Loss   :    4.926951 ------   Validation Error   :    10.479996\n",
            "10200   Training Loss :  0.22616679966449738\n",
            "Valdation Loss   :    5.7679896 ------   Validation Error   :    10.489998\n",
            "10250   Training Loss :  0.28241783380508423\n",
            "Valdation Loss   :    7.956609 ------   Validation Error   :    10.57\n",
            "10300   Training Loss :  0.3867659568786621\n",
            "Valdation Loss   :    6.8237066 ------   Validation Error   :    10.589996\n",
            "10350   Training Loss :  0.32361018657684326\n",
            "Valdation Loss   :    7.195304 ------   Validation Error   :    10.559998\n",
            "10400   Training Loss :  0.5488775968551636\n",
            "Valdation Loss   :    6.4720078 ------   Validation Error   :    10.5\n",
            "10450   Training Loss :  0.7194230556488037\n",
            "Valdation Loss   :    5.97994 ------   Validation Error   :    10.489998\n",
            "10500   Training Loss :  0.3552077114582062\n",
            "Valdation Loss   :    6.728346 ------   Validation Error   :    10.470001\n",
            "10550   Training Loss :  0.400837242603302\n",
            "Valdation Loss   :    5.1880083 ------   Validation Error   :    10.479996\n",
            "10600   Training Loss :  0.16201026737689972\n",
            "Valdation Loss   :    6.1107535 ------   Validation Error   :    10.5\n",
            "10650   Training Loss :  0.4320146441459656\n",
            "Valdation Loss   :    6.0810227 ------   Validation Error   :    10.489998\n",
            "10700   Training Loss :  0.2548455595970154\n",
            "Valdation Loss   :    6.151365 ------   Validation Error   :    10.409996\n",
            "10750   Training Loss :  0.773836076259613\n",
            "Valdation Loss   :    6.3732533 ------   Validation Error   :    10.459999\n",
            "10800   Training Loss :  0.29440340399742126\n",
            "Valdation Loss   :    7.737673 ------   Validation Error   :    10.5099945\n",
            "10850   Training Loss :  0.38984784483909607\n",
            "Valdation Loss   :    5.6204677 ------   Validation Error   :    10.540001\n",
            "10900   Training Loss :  0.33150479197502136\n",
            "Valdation Loss   :    5.1398444 ------   Validation Error   :    10.489998\n",
            "10950   Training Loss :  0.34823843836784363\n",
            "Valdation Loss   :    6.4557185 ------   Validation Error   :    10.449997\n",
            "11000   Training Loss :  0.28484684228897095\n",
            "Valdation Loss   :    6.7421637 ------   Validation Error   :    10.309998\n",
            "11050   Training Loss :  0.5323518514633179\n",
            "Valdation Loss   :    8.335651 ------   Validation Error   :    10.369995\n",
            "11100   Training Loss :  0.1438671350479126\n",
            "Valdation Loss   :    5.961205 ------   Validation Error   :    10.449997\n",
            "11150   Training Loss :  0.30467045307159424\n",
            "Valdation Loss   :    5.6765394 ------   Validation Error   :    10.409996\n",
            "11200   Training Loss :  0.29865604639053345\n",
            "Valdation Loss   :    6.234716 ------   Validation Error   :    10.329994\n",
            "11250   Training Loss :  0.5961452126502991\n",
            "Valdation Loss   :    5.691973 ------   Validation Error   :    10.349998\n",
            "11300   Training Loss :  0.39712387323379517\n",
            "Valdation Loss   :    6.5936947 ------   Validation Error   :    10.459999\n",
            "11350   Training Loss :  0.520320475101471\n",
            "Valdation Loss   :    7.2579355 ------   Validation Error   :    10.309998\n",
            "11400   Training Loss :  0.35308629274368286\n",
            "Valdation Loss   :    6.6175785 ------   Validation Error   :    10.2599945\n",
            "11450   Training Loss :  0.4586124122142792\n",
            "Valdation Loss   :    6.561392 ------   Validation Error   :    10.239998\n",
            "11500   Training Loss :  0.7683676481246948\n",
            "Valdation Loss   :    5.62613 ------   Validation Error   :    10.329994\n",
            "11550   Training Loss :  0.19516822695732117\n",
            "Valdation Loss   :    7.3203225 ------   Validation Error   :    10.349998\n",
            "11600   Training Loss :  0.23695644736289978\n",
            "Valdation Loss   :    6.137093 ------   Validation Error   :    10.369995\n",
            "11650   Training Loss :  0.3411007821559906\n",
            "Valdation Loss   :    7.0976543 ------   Validation Error   :    10.279999\n",
            "11700   Training Loss :  0.7345446944236755\n",
            "Valdation Loss   :    5.2409415 ------   Validation Error   :    10.219994\n",
            "11750   Training Loss :  0.5116330981254578\n",
            "Valdation Loss   :    6.85033 ------   Validation Error   :    10.129997\n",
            "11800   Training Loss :  0.31587859988212585\n",
            "Valdation Loss   :    5.966449 ------   Validation Error   :    10.269997\n",
            "11850   Training Loss :  0.3224892020225525\n",
            "Valdation Loss   :    7.5131435 ------   Validation Error   :    10.149994\n",
            "11900   Training Loss :  0.32723987102508545\n",
            "Valdation Loss   :    6.3725157 ------   Validation Error   :    10.239998\n",
            "11950   Training Loss :  0.38037922978401184\n",
            "Valdation Loss   :    5.2796144 ------   Validation Error   :    10.18\n",
            "12000   Training Loss :  0.256862998008728\n",
            "Valdation Loss   :    5.7186117 ------   Validation Error   :    10.139999\n",
            "12050   Training Loss :  0.30497679114341736\n",
            "Valdation Loss   :    5.3895497 ------   Validation Error   :    10.149994\n",
            "12100   Training Loss :  0.838814914226532\n",
            "Valdation Loss   :    6.7553005 ------   Validation Error   :    10.110001\n",
            "12150   Training Loss :  0.15734848380088806\n",
            "Valdation Loss   :    5.3989987 ------   Validation Error   :    10.110001\n",
            "12200   Training Loss :  0.5327444672584534\n",
            "Valdation Loss   :    6.6343217 ------   Validation Error   :    10.169998\n",
            "12250   Training Loss :  0.27370116114616394\n",
            "Valdation Loss   :    5.945543 ------   Validation Error   :    10.159996\n",
            "12300   Training Loss :  0.19290220737457275\n",
            "Valdation Loss   :    5.07307 ------   Validation Error   :    10.139999\n",
            "12350   Training Loss :  0.39159899950027466\n",
            "Valdation Loss   :    4.7111406 ------   Validation Error   :    10.059998\n",
            "12400   Training Loss :  0.9584692716598511\n",
            "Valdation Loss   :    8.49212 ------   Validation Error   :    10.049995\n",
            "12450   Training Loss :  0.35636526346206665\n",
            "Valdation Loss   :    7.032516 ------   Validation Error   :    10.149994\n",
            "12500   Training Loss :  0.36265724897384644\n",
            "Valdation Loss   :    6.0205464 ------   Validation Error   :    10.119995\n",
            "12550   Training Loss :  0.28378671407699585\n",
            "Valdation Loss   :    6.4454055 ------   Validation Error   :    10.019997\n",
            "12600   Training Loss :  0.3591904640197754\n",
            "Valdation Loss   :    7.3420377 ------   Validation Error   :    9.970001\n",
            "12650   Training Loss :  0.7338106632232666\n",
            "Valdation Loss   :    7.7076874 ------   Validation Error   :    10.07\n",
            "12700   Training Loss :  0.5656440258026123\n",
            "Valdation Loss   :    5.3458786 ------   Validation Error   :    10.019997\n",
            "12750   Training Loss :  0.3614971339702606\n",
            "Valdation Loss   :    7.3319087 ------   Validation Error   :    9.919998\n",
            "12800   Training Loss :  0.5335716009140015\n",
            "Valdation Loss   :    5.4046006 ------   Validation Error   :    10.029999\n",
            "12850   Training Loss :  0.3231217861175537\n",
            "Valdation Loss   :    6.307063 ------   Validation Error   :    9.979996\n",
            "12900   Training Loss :  0.4863996207714081\n",
            "Valdation Loss   :    6.7395463 ------   Validation Error   :    9.979996\n",
            "12950   Training Loss :  0.8678082823753357\n",
            "Valdation Loss   :    4.39298 ------   Validation Error   :    10.0099945\n",
            "13000   Training Loss :  0.32041463255882263\n",
            "Valdation Loss   :    7.393206 ------   Validation Error   :    9.989998\n",
            "13050   Training Loss :  0.574724555015564\n",
            "Valdation Loss   :    5.735232 ------   Validation Error   :    9.970001\n",
            "13100   Training Loss :  0.2527141273021698\n",
            "Valdation Loss   :    4.855869 ------   Validation Error   :    9.830002\n",
            "13150   Training Loss :  0.45346301794052124\n",
            "Valdation Loss   :    6.202956 ------   Validation Error   :    9.839996\n",
            "13200   Training Loss :  0.49994373321533203\n",
            "Valdation Loss   :    7.2514386 ------   Validation Error   :    9.849998\n",
            "13250   Training Loss :  0.44954726099967957\n",
            "Valdation Loss   :    6.773996 ------   Validation Error   :    9.82\n",
            "13300   Training Loss :  0.24913039803504944\n",
            "Valdation Loss   :    5.7535276 ------   Validation Error   :    9.799995\n",
            "13350   Training Loss :  0.3644620180130005\n",
            "Valdation Loss   :    5.88838 ------   Validation Error   :    9.869995\n",
            "13400   Training Loss :  0.4872443974018097\n",
            "Valdation Loss   :    6.653291 ------   Validation Error   :    9.869995\n",
            "13450   Training Loss :  0.7169549465179443\n",
            "Valdation Loss   :    7.5274835 ------   Validation Error   :    9.809998\n",
            "13500   Training Loss :  0.13964225351810455\n",
            "Valdation Loss   :    6.46543 ------   Validation Error   :    9.879997\n",
            "13550   Training Loss :  0.5291734337806702\n",
            "Valdation Loss   :    6.7970047 ------   Validation Error   :    9.889999\n",
            "13600   Training Loss :  0.3150245249271393\n",
            "Valdation Loss   :    5.84385 ------   Validation Error   :    9.779999\n",
            "13650   Training Loss :  0.27889499068260193\n",
            "Valdation Loss   :    6.672559 ------   Validation Error   :    9.860001\n",
            "13700   Training Loss :  0.49231091141700745\n",
            "Valdation Loss   :    5.9679656 ------   Validation Error   :    9.809998\n",
            "13750   Training Loss :  0.22436277568340302\n",
            "Valdation Loss   :    6.0777807 ------   Validation Error   :    9.799995\n",
            "13800   Training Loss :  0.29203733801841736\n",
            "Valdation Loss   :    5.971367 ------   Validation Error   :    9.799995\n",
            "13850   Training Loss :  0.26010122895240784\n",
            "Valdation Loss   :    5.8980417 ------   Validation Error   :    9.7599945\n",
            "13900   Training Loss :  0.055457402020692825\n",
            "Valdation Loss   :    5.400897 ------   Validation Error   :    9.779999\n",
            "13950   Training Loss :  0.2815428674221039\n",
            "Valdation Loss   :    8.084161 ------   Validation Error   :    9.839996\n",
            "14000   Training Loss :  0.4771139621734619\n",
            "Valdation Loss   :    5.6826096 ------   Validation Error   :    9.839996\n",
            "14050   Training Loss :  0.3513150215148926\n",
            "Valdation Loss   :    6.752554 ------   Validation Error   :    9.7599945\n",
            "14100   Training Loss :  0.43835943937301636\n",
            "Valdation Loss   :    7.018578 ------   Validation Error   :    9.879997\n",
            "14150   Training Loss :  0.5501816868782043\n",
            "Valdation Loss   :    7.3155594 ------   Validation Error   :    9.769997\n",
            "14200   Training Loss :  0.4461763799190521\n",
            "Valdation Loss   :    5.917364 ------   Validation Error   :    9.790001\n",
            "14250   Training Loss :  0.1549123227596283\n",
            "Valdation Loss   :    5.818852 ------   Validation Error   :    9.699997\n",
            "14300   Training Loss :  0.537329912185669\n",
            "Valdation Loss   :    6.848347 ------   Validation Error   :    9.659996\n",
            "14350   Training Loss :  0.2038687914609909\n",
            "Valdation Loss   :    7.2374573 ------   Validation Error   :    9.739998\n",
            "14400   Training Loss :  0.4409160614013672\n",
            "Valdation Loss   :    7.608073 ------   Validation Error   :    9.650002\n",
            "14450   Training Loss :  0.3489411771297455\n",
            "Valdation Loss   :    5.9131994 ------   Validation Error   :    9.709999\n",
            "14500   Training Loss :  0.49327346682548523\n",
            "Valdation Loss   :    6.0150456 ------   Validation Error   :    9.659996\n",
            "14550   Training Loss :  0.258736789226532\n",
            "Valdation Loss   :    7.0547895 ------   Validation Error   :    9.619995\n",
            "14600   Training Loss :  0.1705121099948883\n",
            "Valdation Loss   :    5.348911 ------   Validation Error   :    9.669998\n",
            "14650   Training Loss :  0.28383809328079224\n",
            "Valdation Loss   :    4.6897597 ------   Validation Error   :    9.68\n",
            "14700   Training Loss :  0.19579896330833435\n",
            "Valdation Loss   :    7.3305535 ------   Validation Error   :    9.720001\n",
            "14750   Training Loss :  0.46613699197769165\n",
            "Valdation Loss   :    7.6879244 ------   Validation Error   :    9.610001\n",
            "14800   Training Loss :  0.2286476492881775\n",
            "Valdation Loss   :    6.418251 ------   Validation Error   :    9.720001\n",
            "14850   Training Loss :  0.6330937147140503\n",
            "Valdation Loss   :    5.295543 ------   Validation Error   :    9.659996\n",
            "14900   Training Loss :  0.1202235072851181\n",
            "Valdation Loss   :    9.0161705 ------   Validation Error   :    9.75\n",
            "14950   Training Loss :  0.27304312586784363\n",
            "Valdation Loss   :    5.9988003 ------   Validation Error   :    9.68\n",
            "15000   Training Loss :  0.4912782311439514\n",
            "Valdation Loss   :    6.333501 ------   Validation Error   :    9.650002\n",
            "15050   Training Loss :  0.3379450738430023\n",
            "Valdation Loss   :    8.117577 ------   Validation Error   :    9.68\n",
            "15100   Training Loss :  0.44909390807151794\n",
            "Valdation Loss   :    6.126184 ------   Validation Error   :    9.629997\n",
            "15150   Training Loss :  0.4948579668998718\n",
            "Valdation Loss   :    6.951194 ------   Validation Error   :    9.709999\n",
            "15200   Training Loss :  0.4392397999763489\n",
            "Valdation Loss   :    7.2640915 ------   Validation Error   :    9.619995\n",
            "15250   Training Loss :  0.3736391067504883\n",
            "Valdation Loss   :    7.436594 ------   Validation Error   :    9.669998\n",
            "15300   Training Loss :  0.49051257967948914\n",
            "Valdation Loss   :    5.629891 ------   Validation Error   :    9.690002\n",
            "15350   Training Loss :  0.1762816160917282\n",
            "Valdation Loss   :    7.8805118 ------   Validation Error   :    9.619995\n",
            "15400   Training Loss :  0.37175458669662476\n",
            "Valdation Loss   :    8.160784 ------   Validation Error   :    9.610001\n",
            "15450   Training Loss :  0.36019766330718994\n",
            "Valdation Loss   :    6.08113 ------   Validation Error   :    9.550003\n",
            "15500   Training Loss :  0.0917355865240097\n",
            "Valdation Loss   :    6.352793 ------   Validation Error   :    9.729996\n",
            "15550   Training Loss :  0.5825713276863098\n",
            "Valdation Loss   :    5.9860225 ------   Validation Error   :    9.639999\n",
            "15600   Training Loss :  0.20062750577926636\n",
            "Valdation Loss   :    7.20297 ------   Validation Error   :    9.599998\n",
            "15650   Training Loss :  0.3192576766014099\n",
            "Valdation Loss   :    9.337185 ------   Validation Error   :    9.659996\n",
            "15700   Training Loss :  0.4566606283187866\n",
            "Valdation Loss   :    5.683998 ------   Validation Error   :    9.599998\n",
            "15750   Training Loss :  0.6228944063186646\n",
            "Valdation Loss   :    8.326315 ------   Validation Error   :    9.629997\n",
            "15800   Training Loss :  0.3854607045650482\n",
            "Valdation Loss   :    6.0829477 ------   Validation Error   :    9.629997\n",
            "15850   Training Loss :  0.19539649784564972\n",
            "Valdation Loss   :    5.6039777 ------   Validation Error   :    9.559998\n",
            "15900   Training Loss :  0.3443877100944519\n",
            "Valdation Loss   :    9.583033 ------   Validation Error   :    9.589996\n",
            "15950   Training Loss :  0.2131352573633194\n",
            "Valdation Loss   :    7.384592 ------   Validation Error   :    9.510002\n",
            "16000   Training Loss :  0.3888090252876282\n",
            "Valdation Loss   :    7.1410108 ------   Validation Error   :    9.519997\n",
            "16050   Training Loss :  0.5302129983901978\n",
            "Valdation Loss   :    6.2855744 ------   Validation Error   :    9.580002\n",
            "16100   Training Loss :  0.3230153024196625\n",
            "Valdation Loss   :    6.648656 ------   Validation Error   :    9.510002\n",
            "16150   Training Loss :  0.260198175907135\n",
            "Valdation Loss   :    7.004077 ------   Validation Error   :    9.599998\n",
            "16200   Training Loss :  0.16782601177692413\n",
            "Valdation Loss   :    6.4315443 ------   Validation Error   :    9.5\n",
            "16250   Training Loss :  0.3072739243507385\n",
            "Valdation Loss   :    7.865171 ------   Validation Error   :    9.43\n",
            "16300   Training Loss :  0.21067923307418823\n",
            "Valdation Loss   :    4.77319 ------   Validation Error   :    9.5\n",
            "16350   Training Loss :  0.39846566319465637\n",
            "Valdation Loss   :    6.955048 ------   Validation Error   :    9.370003\n",
            "16400   Training Loss :  0.508307933807373\n",
            "Valdation Loss   :    6.665662 ------   Validation Error   :    9.5\n",
            "16450   Training Loss :  0.3944816589355469\n",
            "Valdation Loss   :    9.0988455 ------   Validation Error   :    9.610001\n",
            "16500   Training Loss :  0.19577746093273163\n",
            "Valdation Loss   :    6.590901 ------   Validation Error   :    9.629997\n",
            "16550   Training Loss :  0.32147178053855896\n",
            "Valdation Loss   :    6.5470414 ------   Validation Error   :    9.529999\n",
            "16600   Training Loss :  0.6619505882263184\n",
            "Valdation Loss   :    5.941527 ------   Validation Error   :    9.43\n",
            "16650   Training Loss :  0.35737043619155884\n",
            "Valdation Loss   :    7.4388256 ------   Validation Error   :    9.370003\n",
            "16700   Training Loss :  0.1183042824268341\n",
            "Valdation Loss   :    6.599931 ------   Validation Error   :    9.43\n",
            "16750   Training Loss :  0.36321064829826355\n",
            "Valdation Loss   :    7.7809987 ------   Validation Error   :    9.43\n",
            "16800   Training Loss :  0.2052227258682251\n",
            "Valdation Loss   :    6.6380754 ------   Validation Error   :    9.410004\n",
            "16850   Training Loss :  0.3813154101371765\n",
            "Valdation Loss   :    7.65057 ------   Validation Error   :    9.309998\n",
            "16900   Training Loss :  0.2585378885269165\n",
            "Valdation Loss   :    7.4167476 ------   Validation Error   :    9.360001\n",
            "16950   Training Loss :  0.18402867019176483\n",
            "Valdation Loss   :    6.9558597 ------   Validation Error   :    9.360001\n",
            "17000   Training Loss :  0.2248406559228897\n",
            "Valdation Loss   :    6.037113 ------   Validation Error   :    9.349998\n",
            "17050   Training Loss :  0.36858195066452026\n",
            "Valdation Loss   :    7.5288754 ------   Validation Error   :    9.339996\n",
            "17100   Training Loss :  0.6930844783782959\n",
            "Valdation Loss   :    7.525409 ------   Validation Error   :    9.440002\n",
            "17150   Training Loss :  0.622730016708374\n",
            "Valdation Loss   :    8.148102 ------   Validation Error   :    9.400002\n",
            "17200   Training Loss :  0.22037653625011444\n",
            "Valdation Loss   :    6.676865 ------   Validation Error   :    9.230003\n",
            "17250   Training Loss :  0.21152648329734802\n",
            "Valdation Loss   :    8.439534 ------   Validation Error   :    9.379997\n",
            "17300   Training Loss :  0.15263384580612183\n",
            "Valdation Loss   :    5.9115696 ------   Validation Error   :    9.440002\n",
            "17350   Training Loss :  0.13245539367198944\n",
            "Valdation Loss   :    7.204717 ------   Validation Error   :    9.410004\n",
            "17400   Training Loss :  0.26195433735847473\n",
            "Valdation Loss   :    6.1948347 ------   Validation Error   :    9.389999\n",
            "17450   Training Loss :  0.24239933490753174\n",
            "Valdation Loss   :    6.6968784 ------   Validation Error   :    9.309998\n",
            "17500   Training Loss :  0.10762742161750793\n",
            "Valdation Loss   :    7.797882 ------   Validation Error   :    9.300003\n",
            "17550   Training Loss :  0.5836143493652344\n",
            "Valdation Loss   :    5.8089743 ------   Validation Error   :    9.290001\n",
            "17600   Training Loss :  0.16055719554424286\n",
            "Valdation Loss   :    6.5503044 ------   Validation Error   :    9.349998\n",
            "17650   Training Loss :  0.46041685342788696\n",
            "Valdation Loss   :    9.016629 ------   Validation Error   :    9.290001\n",
            "17700   Training Loss :  0.10563327372074127\n",
            "Valdation Loss   :    8.066626 ------   Validation Error   :    9.370003\n",
            "17750   Training Loss :  0.33923104405403137\n",
            "Valdation Loss   :    7.5594683 ------   Validation Error   :    9.459999\n",
            "17800   Training Loss :  0.13360720872879028\n",
            "Valdation Loss   :    8.666045 ------   Validation Error   :    9.510002\n",
            "17850   Training Loss :  0.2977381646633148\n",
            "Valdation Loss   :    8.857494 ------   Validation Error   :    9.43\n",
            "17900   Training Loss :  0.5157854557037354\n",
            "Valdation Loss   :    6.4454584 ------   Validation Error   :    9.43\n",
            "17950   Training Loss :  0.1380767971277237\n",
            "Valdation Loss   :    7.7485623 ------   Validation Error   :    9.410004\n",
            "18000   Training Loss :  0.3625720739364624\n",
            "Valdation Loss   :    7.663771 ------   Validation Error   :    9.419998\n",
            "18050   Training Loss :  0.23346146941184998\n",
            "Valdation Loss   :    6.515686 ------   Validation Error   :    9.309998\n",
            "18100   Training Loss :  0.12518447637557983\n",
            "Valdation Loss   :    7.775299 ------   Validation Error   :    9.220001\n",
            "18150   Training Loss :  0.22593837976455688\n",
            "Valdation Loss   :    7.8817487 ------   Validation Error   :    9.150002\n",
            "18200   Training Loss :  0.3640825152397156\n",
            "Valdation Loss   :    6.954644 ------   Validation Error   :    9.339996\n",
            "18250   Training Loss :  0.28393131494522095\n",
            "Valdation Loss   :    6.4880557 ------   Validation Error   :    9.360001\n",
            "18300   Training Loss :  0.22094663977622986\n",
            "Valdation Loss   :    7.066761 ------   Validation Error   :    9.290001\n",
            "18350   Training Loss :  0.2844058573246002\n",
            "Valdation Loss   :    8.550297 ------   Validation Error   :    9.330002\n",
            "18400   Training Loss :  0.27190643548965454\n",
            "Valdation Loss   :    8.132612 ------   Validation Error   :    9.190002\n",
            "18450   Training Loss :  0.23463235795497894\n",
            "Valdation Loss   :    7.202432 ------   Validation Error   :    9.239998\n",
            "18500   Training Loss :  0.38693761825561523\n",
            "Valdation Loss   :    4.254207 ------   Validation Error   :    9.220001\n",
            "18550   Training Loss :  0.4503249228000641\n",
            "Valdation Loss   :    5.962677 ------   Validation Error   :    9.230003\n",
            "18600   Training Loss :  0.2347135841846466\n",
            "Valdation Loss   :    7.745259 ------   Validation Error   :    9.130005\n",
            "18650   Training Loss :  0.4387356638908386\n",
            "Valdation Loss   :    7.866976 ------   Validation Error   :    9.300003\n",
            "18700   Training Loss :  0.2732822895050049\n",
            "Valdation Loss   :    9.170914 ------   Validation Error   :    9.18\n",
            "18750   Training Loss :  0.13202959299087524\n",
            "Valdation Loss   :    5.776823 ------   Validation Error   :    9.220001\n",
            "18800   Training Loss :  0.3370169997215271\n",
            "Valdation Loss   :    8.272098 ------   Validation Error   :    9.25\n",
            "18850   Training Loss :  0.20455075800418854\n",
            "Valdation Loss   :    8.960609 ------   Validation Error   :    9.07\n",
            "18900   Training Loss :  0.13477212190628052\n",
            "Valdation Loss   :    8.864379 ------   Validation Error   :    9.120003\n",
            "18950   Training Loss :  0.28948503732681274\n",
            "Valdation Loss   :    6.5272374 ------   Validation Error   :    9.090004\n",
            "19000   Training Loss :  0.4018559455871582\n",
            "Valdation Loss   :    8.62622 ------   Validation Error   :    9.169998\n",
            "19050   Training Loss :  0.13263599574565887\n",
            "Valdation Loss   :    8.211583 ------   Validation Error   :    9.169998\n",
            "19100   Training Loss :  0.144731342792511\n",
            "Valdation Loss   :    6.8718295 ------   Validation Error   :    9.160004\n",
            "19150   Training Loss :  0.6271880865097046\n",
            "Valdation Loss   :    7.526183 ------   Validation Error   :    9.130005\n",
            "19200   Training Loss :  0.3199754059314728\n",
            "Valdation Loss   :    5.917078 ------   Validation Error   :    9.260002\n",
            "19250   Training Loss :  0.16570742428302765\n",
            "Valdation Loss   :    7.398762 ------   Validation Error   :    9.18\n",
            "19300   Training Loss :  0.2865678369998932\n",
            "Valdation Loss   :    7.7602286 ------   Validation Error   :    9.059998\n",
            "19350   Training Loss :  0.35383307933807373\n",
            "Valdation Loss   :    7.560906 ------   Validation Error   :    9.209999\n",
            "19400   Training Loss :  0.176438570022583\n",
            "Valdation Loss   :    7.810011 ------   Validation Error   :    9.25\n",
            "19450   Training Loss :  0.41457846760749817\n",
            "Valdation Loss   :    6.7656636 ------   Validation Error   :    9.090004\n",
            "19500   Training Loss :  0.1734013557434082\n",
            "Valdation Loss   :    7.102444 ------   Validation Error   :    9.080002\n",
            "19550   Training Loss :  0.14198043942451477\n",
            "Valdation Loss   :    6.944392 ------   Validation Error   :    9.090004\n",
            "19600   Training Loss :  0.4461248219013214\n",
            "Valdation Loss   :    7.017252 ------   Validation Error   :    9.18\n",
            "19650   Training Loss :  0.5588123798370361\n",
            "Valdation Loss   :    8.731364 ------   Validation Error   :    9.110001\n",
            "19700   Training Loss :  0.18845456838607788\n",
            "Valdation Loss   :    8.546169 ------   Validation Error   :    9.0\n",
            "19750   Training Loss :  0.16375857591629028\n",
            "Valdation Loss   :    8.323673 ------   Validation Error   :    9.07\n",
            "19800   Training Loss :  0.6204438209533691\n",
            "Valdation Loss   :    7.4772835 ------   Validation Error   :    9.160004\n",
            "19850   Training Loss :  0.5974055528640747\n",
            "Valdation Loss   :    6.632264 ------   Validation Error   :    9.270004\n",
            "19900   Training Loss :  0.19524598121643066\n",
            "Valdation Loss   :    7.8626733 ------   Validation Error   :    9.080002\n",
            "19950   Training Loss :  0.7965589761734009\n",
            "Valdation Loss   :    6.1300635 ------   Validation Error   :    9.130005\n",
            "20000   Training Loss :  0.43884095549583435\n",
            "Valdation Loss   :    6.4833617 ------   Validation Error   :    9.139999\n",
            "20050   Training Loss :  0.1350388377904892\n",
            "Valdation Loss   :    6.3705635 ------   Validation Error   :    9.110001\n",
            "20100   Training Loss :  0.27243033051490784\n",
            "Valdation Loss   :    8.39053 ------   Validation Error   :    9.020004\n",
            "20150   Training Loss :  0.40347471833229065\n",
            "Valdation Loss   :    8.067 ------   Validation Error   :    9.130005\n",
            "20200   Training Loss :  0.23763860762119293\n",
            "Valdation Loss   :    7.3334618 ------   Validation Error   :    9.080002\n",
            "20250   Training Loss :  0.2818787097930908\n",
            "Valdation Loss   :    6.1763954 ------   Validation Error   :    9.020004\n",
            "20300   Training Loss :  0.2209160029888153\n",
            "Valdation Loss   :    9.88541 ------   Validation Error   :    9.0\n",
            "20350   Training Loss :  0.43015891313552856\n",
            "Valdation Loss   :    8.370031 ------   Validation Error   :    9.07\n",
            "20400   Training Loss :  0.3612601161003113\n",
            "Valdation Loss   :    5.6335697 ------   Validation Error   :    8.900002\n",
            "20450   Training Loss :  0.31843841075897217\n",
            "Valdation Loss   :    6.945713 ------   Validation Error   :    8.889999\n",
            "20500   Training Loss :  0.2125633955001831\n",
            "Valdation Loss   :    7.827965 ------   Validation Error   :    8.889999\n",
            "20550   Training Loss :  0.4806506633758545\n",
            "Valdation Loss   :    7.5912023 ------   Validation Error   :    8.9900055\n",
            "20600   Training Loss :  0.3264140188694\n",
            "Valdation Loss   :    7.8548827 ------   Validation Error   :    8.970001\n",
            "20650   Training Loss :  0.1896883249282837\n",
            "Valdation Loss   :    4.929253 ------   Validation Error   :    9.07\n",
            "20700   Training Loss :  0.27474769949913025\n",
            "Valdation Loss   :    7.865807 ------   Validation Error   :    9.059998\n",
            "20750   Training Loss :  0.32522690296173096\n",
            "Valdation Loss   :    8.649617 ------   Validation Error   :    9.040001\n",
            "20800   Training Loss :  0.3243914842605591\n",
            "Valdation Loss   :    8.803129 ------   Validation Error   :    8.9900055\n",
            "20850   Training Loss :  0.4497712552547455\n",
            "Valdation Loss   :    6.7866044 ------   Validation Error   :    8.910004\n",
            "20900   Training Loss :  0.5262578129768372\n",
            "Valdation Loss   :    7.6468906 ------   Validation Error   :    9.0\n",
            "20950   Training Loss :  0.23107998073101044\n",
            "Valdation Loss   :    6.4864883 ------   Validation Error   :    8.919998\n",
            "21000   Training Loss :  0.35307109355926514\n",
            "Valdation Loss   :    7.5628953 ------   Validation Error   :    8.880005\n",
            "21050   Training Loss :  0.33016836643218994\n",
            "Valdation Loss   :    6.8672748 ------   Validation Error   :    9.020004\n",
            "21100   Training Loss :  0.3201555609703064\n",
            "Valdation Loss   :    6.132095 ------   Validation Error   :    9.0\n",
            "21150   Training Loss :  0.32671475410461426\n",
            "Valdation Loss   :    6.7247086 ------   Validation Error   :    8.900002\n",
            "21200   Training Loss :  0.11299742013216019\n",
            "Valdation Loss   :    7.6510468 ------   Validation Error   :    8.900002\n",
            "21250   Training Loss :  0.4647791385650635\n",
            "Valdation Loss   :    7.445925 ------   Validation Error   :    8.959999\n",
            "21300   Training Loss :  0.27455154061317444\n",
            "Valdation Loss   :    6.8901725 ------   Validation Error   :    9.110001\n",
            "21350   Training Loss :  1.0031605958938599\n",
            "Valdation Loss   :    5.4234138 ------   Validation Error   :    8.950005\n",
            "21400   Training Loss :  0.551055908203125\n",
            "Valdation Loss   :    6.306635 ------   Validation Error   :    9.0\n",
            "21450   Training Loss :  0.2843497097492218\n",
            "Valdation Loss   :    7.6544437 ------   Validation Error   :    8.959999\n",
            "21500   Training Loss :  0.33666086196899414\n",
            "Valdation Loss   :    7.9591875 ------   Validation Error   :    9.059998\n",
            "21550   Training Loss :  0.14051610231399536\n",
            "Valdation Loss   :    8.218119 ------   Validation Error   :    9.029999\n",
            "21600   Training Loss :  0.33750012516975403\n",
            "Valdation Loss   :    8.503016 ------   Validation Error   :    8.900002\n",
            "21650   Training Loss :  0.43323221802711487\n",
            "Valdation Loss   :    8.296562 ------   Validation Error   :    9.0\n",
            "21700   Training Loss :  0.12170176208019257\n",
            "Valdation Loss   :    7.540987 ------   Validation Error   :    8.870003\n",
            "21750   Training Loss :  0.5441356301307678\n",
            "Valdation Loss   :    8.497561 ------   Validation Error   :    8.870003\n",
            "21800   Training Loss :  0.4737357795238495\n",
            "Valdation Loss   :    5.569276 ------   Validation Error   :    8.919998\n",
            "21850   Training Loss :  0.13423344492912292\n",
            "Valdation Loss   :    5.4452147 ------   Validation Error   :    8.93\n",
            "21900   Training Loss :  0.2130862921476364\n",
            "Valdation Loss   :    4.5686517 ------   Validation Error   :    8.980003\n",
            "21950   Training Loss :  0.26158028841018677\n",
            "Valdation Loss   :    6.9894886 ------   Validation Error   :    9.0\n",
            "22000   Training Loss :  0.34801867604255676\n",
            "Valdation Loss   :    5.3846383 ------   Validation Error   :    8.940002\n",
            "22050   Training Loss :  0.1508873850107193\n",
            "Valdation Loss   :    6.3590016 ------   Validation Error   :    8.959999\n",
            "22100   Training Loss :  0.8570631146430969\n",
            "Valdation Loss   :    5.6431 ------   Validation Error   :    8.860001\n",
            "22150   Training Loss :  0.26998788118362427\n",
            "Valdation Loss   :    6.3217173 ------   Validation Error   :    8.75\n",
            "22200   Training Loss :  0.6230702996253967\n",
            "Valdation Loss   :    6.5201006 ------   Validation Error   :    8.880005\n",
            "22250   Training Loss :  0.5940219163894653\n",
            "Valdation Loss   :    6.904853 ------   Validation Error   :    8.880005\n",
            "22300   Training Loss :  0.38055485486984253\n",
            "Valdation Loss   :    7.051453 ------   Validation Error   :    8.880005\n",
            "22350   Training Loss :  0.5979529023170471\n",
            "Valdation Loss   :    6.745704 ------   Validation Error   :    8.790001\n",
            "22400   Training Loss :  0.5356026291847229\n",
            "Valdation Loss   :    8.676727 ------   Validation Error   :    8.82\n",
            "22450   Training Loss :  0.24836865067481995\n",
            "Valdation Loss   :    8.121286 ------   Validation Error   :    8.7400055\n",
            "22500   Training Loss :  0.18309341371059418\n",
            "Valdation Loss   :    7.128444 ------   Validation Error   :    8.810005\n",
            "22550   Training Loss :  0.12752394378185272\n",
            "Valdation Loss   :    5.6004925 ------   Validation Error   :    8.779999\n",
            "22600   Training Loss :  0.19257980585098267\n",
            "Valdation Loss   :    8.8539295 ------   Validation Error   :    8.82\n",
            "22650   Training Loss :  0.15878507494926453\n",
            "Valdation Loss   :    6.7100234 ------   Validation Error   :    8.840004\n",
            "22700   Training Loss :  0.5572932362556458\n",
            "Valdation Loss   :    8.642258 ------   Validation Error   :    8.75\n",
            "22750   Training Loss :  0.909055769443512\n",
            "Valdation Loss   :    5.270628 ------   Validation Error   :    8.800003\n",
            "22800   Training Loss :  0.27554959058761597\n",
            "Valdation Loss   :    6.897948 ------   Validation Error   :    8.779999\n",
            "22850   Training Loss :  0.5891585350036621\n",
            "Valdation Loss   :    8.837168 ------   Validation Error   :    8.830002\n",
            "22900   Training Loss :  0.265275776386261\n",
            "Valdation Loss   :    7.549901 ------   Validation Error   :    8.810005\n",
            "22950   Training Loss :  0.24639268219470978\n",
            "Valdation Loss   :    5.03693 ------   Validation Error   :    8.710007\n",
            "23000   Training Loss :  0.2533436715602875\n",
            "Valdation Loss   :    7.78466 ------   Validation Error   :    8.770004\n",
            "23050   Training Loss :  0.6414464712142944\n",
            "Valdation Loss   :    8.664251 ------   Validation Error   :    8.68\n",
            "23100   Training Loss :  0.7162306308746338\n",
            "Valdation Loss   :    7.411164 ------   Validation Error   :    8.710007\n",
            "23150   Training Loss :  1.1966246366500854\n",
            "Valdation Loss   :    5.934908 ------   Validation Error   :    8.700005\n",
            "23200   Training Loss :  0.4502735733985901\n",
            "Valdation Loss   :    6.317507 ------   Validation Error   :    8.690002\n",
            "23250   Training Loss :  0.24652470648288727\n",
            "Valdation Loss   :    6.914341 ------   Validation Error   :    8.670006\n",
            "23300   Training Loss :  0.5774542093276978\n",
            "Valdation Loss   :    6.843333 ------   Validation Error   :    8.720001\n",
            "23350   Training Loss :  0.06592237949371338\n",
            "Valdation Loss   :    6.5941887 ------   Validation Error   :    8.720001\n",
            "23400   Training Loss :  0.14314651489257812\n",
            "Valdation Loss   :    8.97427 ------   Validation Error   :    8.710007\n",
            "23450   Training Loss :  0.07201816141605377\n",
            "Valdation Loss   :    9.437499 ------   Validation Error   :    8.639999\n",
            "23500   Training Loss :  0.15416431427001953\n",
            "Valdation Loss   :    5.6471496 ------   Validation Error   :    8.68\n",
            "23550   Training Loss :  0.134852796792984\n",
            "Valdation Loss   :    8.735222 ------   Validation Error   :    8.670006\n",
            "23600   Training Loss :  0.1521005779504776\n",
            "Valdation Loss   :    6.023795 ------   Validation Error   :    8.790001\n",
            "23650   Training Loss :  0.10946089029312134\n",
            "Valdation Loss   :    8.043749 ------   Validation Error   :    8.700005\n",
            "23700   Training Loss :  0.7427613735198975\n",
            "Valdation Loss   :    9.426069 ------   Validation Error   :    8.630005\n",
            "23750   Training Loss :  0.21705801784992218\n",
            "Valdation Loss   :    9.859446 ------   Validation Error   :    8.660004\n",
            "23800   Training Loss :  0.2534617483615875\n",
            "Valdation Loss   :    7.6150994 ------   Validation Error   :    8.600006\n",
            "23850   Training Loss :  0.17289501428604126\n",
            "Valdation Loss   :    7.860451 ------   Validation Error   :    8.710007\n",
            "23900   Training Loss :  0.16331246495246887\n",
            "Valdation Loss   :    6.63625 ------   Validation Error   :    8.720001\n",
            "23950   Training Loss :  0.287977397441864\n",
            "Valdation Loss   :    7.065796 ------   Validation Error   :    8.730003\n",
            "24000   Training Loss :  0.1378743052482605\n",
            "Valdation Loss   :    6.540605 ------   Validation Error   :    8.650002\n",
            "24050   Training Loss :  0.3298266530036926\n",
            "Valdation Loss   :    6.336784 ------   Validation Error   :    8.660004\n",
            "24100   Training Loss :  0.2117447853088379\n",
            "Valdation Loss   :    7.6264296 ------   Validation Error   :    8.68\n",
            "24150   Training Loss :  0.14935989677906036\n",
            "Valdation Loss   :    8.259138 ------   Validation Error   :    8.650002\n",
            "24200   Training Loss :  0.9701057076454163\n",
            "Valdation Loss   :    6.254646 ------   Validation Error   :    8.68\n",
            "24250   Training Loss :  0.4097699224948883\n",
            "Valdation Loss   :    6.193563 ------   Validation Error   :    8.600006\n",
            "24300   Training Loss :  0.05084413290023804\n",
            "Valdation Loss   :    9.791399 ------   Validation Error   :    8.540001\n",
            "24350   Training Loss :  0.6559755206108093\n",
            "Valdation Loss   :    7.0619874 ------   Validation Error   :    8.560005\n",
            "24400   Training Loss :  0.3058513402938843\n",
            "Valdation Loss   :    8.009889 ------   Validation Error   :    8.639999\n",
            "24450   Training Loss :  0.32291945815086365\n",
            "Valdation Loss   :    8.16018 ------   Validation Error   :    8.610001\n",
            "24500   Training Loss :  0.1283426135778427\n",
            "Valdation Loss   :    6.177553 ------   Validation Error   :    8.580002\n",
            "24550   Training Loss :  0.21299085021018982\n",
            "Valdation Loss   :    6.2256575 ------   Validation Error   :    8.590004\n",
            "24600   Training Loss :  0.03516611456871033\n",
            "Valdation Loss   :    7.5502887 ------   Validation Error   :    8.610001\n",
            "24650   Training Loss :  0.33005043864250183\n",
            "Valdation Loss   :    7.5076823 ------   Validation Error   :    8.57\n",
            "24700   Training Loss :  0.2341926097869873\n",
            "Valdation Loss   :    8.223708 ------   Validation Error   :    8.550003\n",
            "24750   Training Loss :  0.35873040556907654\n",
            "Valdation Loss   :    7.0261993 ------   Validation Error   :    8.610001\n",
            "24800   Training Loss :  0.29341185092926025\n",
            "Valdation Loss   :    8.312384 ------   Validation Error   :    8.57\n",
            "24850   Training Loss :  0.16213037073612213\n",
            "Valdation Loss   :    7.438285 ------   Validation Error   :    8.630005\n",
            "24900   Training Loss :  0.37213101983070374\n",
            "Valdation Loss   :    5.511546 ------   Validation Error   :    8.5\n",
            "24950   Training Loss :  0.42460760474205017\n",
            "Valdation Loss   :    6.1272783 ------   Validation Error   :    8.550003\n",
            "25000   Training Loss :  0.5423781871795654\n",
            "Valdation Loss   :    8.788575 ------   Validation Error   :    8.600006\n",
            "25050   Training Loss :  0.20732320845127106\n",
            "Valdation Loss   :    8.713247 ------   Validation Error   :    8.639999\n",
            "25100   Training Loss :  0.4446578025817871\n",
            "Valdation Loss   :    5.626543 ------   Validation Error   :    8.720001\n",
            "25150   Training Loss :  0.09570041298866272\n",
            "Valdation Loss   :    6.57582 ------   Validation Error   :    8.580002\n",
            "25200   Training Loss :  0.2838701903820038\n",
            "Valdation Loss   :    7.2293544 ------   Validation Error   :    8.560005\n",
            "25250   Training Loss :  0.32605934143066406\n",
            "Valdation Loss   :    8.686563 ------   Validation Error   :    8.520004\n",
            "25300   Training Loss :  0.2978479564189911\n",
            "Valdation Loss   :    6.872588 ------   Validation Error   :    8.580002\n",
            "25350   Training Loss :  0.318572998046875\n",
            "Valdation Loss   :    8.037428 ------   Validation Error   :    8.639999\n",
            "25400   Training Loss :  0.5220502614974976\n",
            "Valdation Loss   :    4.297505 ------   Validation Error   :    8.550003\n",
            "25450   Training Loss :  0.29264673590660095\n",
            "Valdation Loss   :    8.572402 ------   Validation Error   :    8.510002\n",
            "25500   Training Loss :  0.3205220401287079\n",
            "Valdation Loss   :    8.893947 ------   Validation Error   :    8.580002\n",
            "25550   Training Loss :  0.23100318014621735\n",
            "Valdation Loss   :    5.9399576 ------   Validation Error   :    8.560005\n",
            "25600   Training Loss :  0.19250956177711487\n",
            "Valdation Loss   :    7.659506 ------   Validation Error   :    8.600006\n",
            "25650   Training Loss :  0.13887788355350494\n",
            "Valdation Loss   :    10.273554 ------   Validation Error   :    8.510002\n",
            "25700   Training Loss :  0.21813568472862244\n",
            "Valdation Loss   :    8.725141 ------   Validation Error   :    8.530006\n",
            "25750   Training Loss :  0.18781381845474243\n",
            "Valdation Loss   :    9.26474 ------   Validation Error   :    8.480003\n",
            "25800   Training Loss :  0.28337177634239197\n",
            "Valdation Loss   :    7.7227154 ------   Validation Error   :    8.420006\n",
            "25850   Training Loss :  0.4507286548614502\n",
            "Valdation Loss   :    6.230876 ------   Validation Error   :    8.510002\n",
            "25900   Training Loss :  0.6813979148864746\n",
            "Valdation Loss   :    6.110171 ------   Validation Error   :    8.600006\n",
            "25950   Training Loss :  0.12713471055030823\n",
            "Valdation Loss   :    7.780115 ------   Validation Error   :    8.550003\n",
            "26000   Training Loss :  0.24355848133563995\n",
            "Valdation Loss   :    5.559761 ------   Validation Error   :    8.520004\n",
            "26050   Training Loss :  0.2537443935871124\n",
            "Valdation Loss   :    7.7408113 ------   Validation Error   :    8.57\n",
            "26100   Training Loss :  0.12252843379974365\n",
            "Valdation Loss   :    8.212312 ------   Validation Error   :    8.57\n",
            "26150   Training Loss :  0.13335129618644714\n",
            "Valdation Loss   :    7.935481 ------   Validation Error   :    8.590004\n",
            "26200   Training Loss :  0.29540756344795227\n",
            "Valdation Loss   :    7.5729094 ------   Validation Error   :    8.540001\n",
            "26250   Training Loss :  0.2723938524723053\n",
            "Valdation Loss   :    8.563915 ------   Validation Error   :    8.639999\n",
            "26300   Training Loss :  0.24063625931739807\n",
            "Valdation Loss   :    8.149018 ------   Validation Error   :    8.4900055\n",
            "26350   Training Loss :  0.4382399916648865\n",
            "Valdation Loss   :    7.014689 ------   Validation Error   :    8.5\n",
            "26400   Training Loss :  0.44011372327804565\n",
            "Valdation Loss   :    8.739694 ------   Validation Error   :    8.510002\n",
            "26450   Training Loss :  0.5444389581680298\n",
            "Valdation Loss   :    8.332937 ------   Validation Error   :    8.5\n",
            "26500   Training Loss :  0.18999826908111572\n",
            "Valdation Loss   :    8.794466 ------   Validation Error   :    8.370003\n",
            "26550   Training Loss :  0.23474086821079254\n",
            "Valdation Loss   :    6.9244847 ------   Validation Error   :    8.440002\n",
            "26600   Training Loss :  0.3102720379829407\n",
            "Valdation Loss   :    6.2668724 ------   Validation Error   :    8.480003\n",
            "26650   Training Loss :  0.4575042426586151\n",
            "Valdation Loss   :    10.914534 ------   Validation Error   :    8.410004\n",
            "26700   Training Loss :  0.6140214800834656\n",
            "Valdation Loss   :    6.8850827 ------   Validation Error   :    8.43\n",
            "26750   Training Loss :  0.35175496339797974\n",
            "Valdation Loss   :    5.725903 ------   Validation Error   :    8.370003\n",
            "26800   Training Loss :  0.21056754887104034\n",
            "Valdation Loss   :    8.240228 ------   Validation Error   :    8.389999\n",
            "26850   Training Loss :  0.38610777258872986\n",
            "Valdation Loss   :    8.307575 ------   Validation Error   :    8.32\n",
            "26900   Training Loss :  0.20354008674621582\n",
            "Valdation Loss   :    7.393893 ------   Validation Error   :    8.360001\n",
            "26950   Training Loss :  0.3162432909011841\n",
            "Valdation Loss   :    6.827581 ------   Validation Error   :    8.340004\n",
            "27000   Training Loss :  0.180736243724823\n",
            "Valdation Loss   :    7.703475 ------   Validation Error   :    8.350006\n",
            "27050   Training Loss :  0.19411112368106842\n",
            "Valdation Loss   :    7.927078 ------   Validation Error   :    8.32\n",
            "27100   Training Loss :  0.18661655485630035\n",
            "Valdation Loss   :    8.571181 ------   Validation Error   :    8.350006\n",
            "27150   Training Loss :  0.3775537312030792\n",
            "Valdation Loss   :    9.007771 ------   Validation Error   :    8.380005\n",
            "27200   Training Loss :  0.38515669107437134\n",
            "Valdation Loss   :    5.14764 ------   Validation Error   :    8.450005\n",
            "27250   Training Loss :  0.4973011016845703\n",
            "Valdation Loss   :    9.62022 ------   Validation Error   :    8.450005\n",
            "27300   Training Loss :  0.4677267074584961\n",
            "Valdation Loss   :    6.4012213 ------   Validation Error   :    8.340004\n",
            "27350   Training Loss :  0.23770250380039215\n",
            "Valdation Loss   :    8.784965 ------   Validation Error   :    8.400002\n",
            "27400   Training Loss :  0.13556332886219025\n",
            "Valdation Loss   :    7.421817 ------   Validation Error   :    8.400002\n",
            "27450   Training Loss :  0.11248292773962021\n",
            "Valdation Loss   :    8.156596 ------   Validation Error   :    8.400002\n",
            "27500   Training Loss :  0.27939745783805847\n",
            "Valdation Loss   :    6.4461737 ------   Validation Error   :    8.410004\n",
            "27550   Training Loss :  0.16166386008262634\n",
            "Valdation Loss   :    10.312141 ------   Validation Error   :    8.330002\n",
            "27600   Training Loss :  0.11862804740667343\n",
            "Valdation Loss   :    5.899596 ------   Validation Error   :    8.389999\n",
            "27650   Training Loss :  0.9672365188598633\n",
            "Valdation Loss   :    7.805123 ------   Validation Error   :    8.310005\n",
            "27700   Training Loss :  0.29685312509536743\n",
            "Valdation Loss   :    8.087064 ------   Validation Error   :    8.310005\n",
            "27750   Training Loss :  0.25470685958862305\n",
            "Valdation Loss   :    6.753834 ------   Validation Error   :    8.340004\n",
            "27800   Training Loss :  0.2924359440803528\n",
            "Valdation Loss   :    8.257794 ------   Validation Error   :    8.43\n",
            "27850   Training Loss :  0.3574158251285553\n",
            "Valdation Loss   :    6.270923 ------   Validation Error   :    8.32\n",
            "27900   Training Loss :  0.24963122606277466\n",
            "Valdation Loss   :    7.985511 ------   Validation Error   :    8.279999\n",
            "27950   Training Loss :  0.18620190024375916\n",
            "Valdation Loss   :    9.015872 ------   Validation Error   :    8.32\n",
            "28000   Training Loss :  0.18729129433631897\n",
            "Valdation Loss   :    8.3617 ------   Validation Error   :    8.279999\n",
            "28050   Training Loss :  0.4037710428237915\n",
            "Valdation Loss   :    5.663626 ------   Validation Error   :    8.310005\n",
            "28100   Training Loss :  0.3163244128227234\n",
            "Valdation Loss   :    5.849448 ------   Validation Error   :    8.230003\n",
            "28150   Training Loss :  0.35980862379074097\n",
            "Valdation Loss   :    8.012361 ------   Validation Error   :    8.330002\n",
            "28200   Training Loss :  0.09701166301965714\n",
            "Valdation Loss   :    6.2460957 ------   Validation Error   :    8.230003\n",
            "28250   Training Loss :  0.39918434619903564\n",
            "Valdation Loss   :    8.531174 ------   Validation Error   :    8.340004\n",
            "28300   Training Loss :  0.48423975706100464\n",
            "Valdation Loss   :    8.195626 ------   Validation Error   :    8.330002\n",
            "28350   Training Loss :  0.3608263432979584\n",
            "Valdation Loss   :    7.222642 ------   Validation Error   :    8.389999\n",
            "28400   Training Loss :  0.2769273519515991\n",
            "Valdation Loss   :    7.8084936 ------   Validation Error   :    8.370003\n",
            "28450   Training Loss :  0.1992003619670868\n",
            "Valdation Loss   :    6.8865905 ------   Validation Error   :    8.300003\n",
            "28500   Training Loss :  0.36470741033554077\n",
            "Valdation Loss   :    10.200171 ------   Validation Error   :    8.330002\n",
            "28550   Training Loss :  0.1653790920972824\n",
            "Valdation Loss   :    5.8466244 ------   Validation Error   :    8.440002\n",
            "28600   Training Loss :  0.6030178070068359\n",
            "Valdation Loss   :    8.157574 ------   Validation Error   :    8.300003\n",
            "28650   Training Loss :  0.8101285696029663\n",
            "Valdation Loss   :    7.2178783 ------   Validation Error   :    8.340004\n",
            "28700   Training Loss :  0.43285825848579407\n",
            "Valdation Loss   :    9.141914 ------   Validation Error   :    8.380005\n",
            "28750   Training Loss :  0.05008525028824806\n",
            "Valdation Loss   :    5.4581256 ------   Validation Error   :    8.290001\n",
            "28800   Training Loss :  0.36023828387260437\n",
            "Valdation Loss   :    9.669709 ------   Validation Error   :    8.370003\n",
            "28850   Training Loss :  0.3604487180709839\n",
            "Valdation Loss   :    7.883251 ------   Validation Error   :    8.310005\n",
            "28900   Training Loss :  0.16805586218833923\n",
            "Valdation Loss   :    8.849408 ------   Validation Error   :    8.360001\n",
            "28950   Training Loss :  0.31508779525756836\n",
            "Valdation Loss   :    4.7384577 ------   Validation Error   :    8.209999\n",
            "29000   Training Loss :  0.13025471568107605\n",
            "Valdation Loss   :    10.230372 ------   Validation Error   :    8.25\n",
            "29050   Training Loss :  0.03742096945643425\n",
            "Valdation Loss   :    8.0089035 ------   Validation Error   :    8.279999\n",
            "29100   Training Loss :  0.1914093941450119\n",
            "Valdation Loss   :    7.470202 ------   Validation Error   :    8.43\n",
            "29150   Training Loss :  0.23624703288078308\n",
            "Valdation Loss   :    8.2032995 ------   Validation Error   :    8.350006\n",
            "29200   Training Loss :  0.4265437126159668\n",
            "Valdation Loss   :    6.8474917 ------   Validation Error   :    8.310005\n",
            "29250   Training Loss :  0.08681227266788483\n",
            "Valdation Loss   :    7.470192 ------   Validation Error   :    8.330002\n",
            "29300   Training Loss :  0.25598374009132385\n",
            "Valdation Loss   :    6.3810678 ------   Validation Error   :    8.300003\n",
            "29350   Training Loss :  0.08327005803585052\n",
            "Valdation Loss   :    6.9344673 ------   Validation Error   :    8.270004\n",
            "29400   Training Loss :  0.14599940180778503\n",
            "Valdation Loss   :    11.246783 ------   Validation Error   :    8.209999\n",
            "29450   Training Loss :  0.29443392157554626\n",
            "Valdation Loss   :    6.358897 ------   Validation Error   :    8.230003\n",
            "29500   Training Loss :  0.45007196068763733\n",
            "Valdation Loss   :    7.444381 ------   Validation Error   :    8.230003\n",
            "29550   Training Loss :  0.05892933905124664\n",
            "Valdation Loss   :    7.013804 ------   Validation Error   :    8.2400055\n",
            "29600   Training Loss :  0.3124350607395172\n",
            "Valdation Loss   :    7.993319 ------   Validation Error   :    8.270004\n",
            "29650   Training Loss :  0.11913514882326126\n",
            "Valdation Loss   :    9.749165 ------   Validation Error   :    8.260002\n",
            "29700   Training Loss :  0.31010380387306213\n",
            "Valdation Loss   :    5.895513 ------   Validation Error   :    8.330002\n",
            "29750   Training Loss :  0.1869063824415207\n",
            "Valdation Loss   :    8.775224 ------   Validation Error   :    8.330002\n",
            "29800   Training Loss :  0.38446205854415894\n",
            "Valdation Loss   :    7.7517114 ------   Validation Error   :    8.32\n",
            "29850   Training Loss :  0.2875522971153259\n",
            "Valdation Loss   :    7.977669 ------   Validation Error   :    8.2400055\n",
            "29900   Training Loss :  0.3497811555862427\n",
            "Valdation Loss   :    9.346274 ------   Validation Error   :    8.2400055\n",
            "29950   Training Loss :  0.09124166518449783\n",
            "Valdation Loss   :    6.800303 ------   Validation Error   :    8.200005\n",
            "30000   Training Loss :  0.6045673489570618\n",
            "Valdation Loss   :    10.348843 ------   Validation Error   :    8.220001\n",
            "30050   Training Loss :  0.12442591041326523\n",
            "Valdation Loss   :    7.5403123 ------   Validation Error   :    8.170006\n",
            "30100   Training Loss :  0.20949289202690125\n",
            "Valdation Loss   :    7.1883197 ------   Validation Error   :    8.230003\n",
            "30150   Training Loss :  0.17427180707454681\n",
            "Valdation Loss   :    6.643498 ------   Validation Error   :    8.2400055\n",
            "30200   Training Loss :  0.12721861898899078\n",
            "Valdation Loss   :    6.853708 ------   Validation Error   :    8.25\n",
            "30250   Training Loss :  0.139145627617836\n",
            "Valdation Loss   :    4.99429 ------   Validation Error   :    8.260002\n",
            "30300   Training Loss :  0.39791953563690186\n",
            "Valdation Loss   :    7.7476907 ------   Validation Error   :    8.139999\n",
            "30350   Training Loss :  0.22518141567707062\n",
            "Valdation Loss   :    7.36735 ------   Validation Error   :    8.190002\n",
            "30400   Training Loss :  0.31617429852485657\n",
            "Valdation Loss   :    8.38688 ------   Validation Error   :    8.160004\n",
            "30450   Training Loss :  0.27471187710762024\n",
            "Valdation Loss   :    9.204033 ------   Validation Error   :    8.07\n",
            "30500   Training Loss :  0.8166239261627197\n",
            "Valdation Loss   :    9.294801 ------   Validation Error   :    8.110001\n",
            "30550   Training Loss :  0.5108528733253479\n",
            "Valdation Loss   :    7.670097 ------   Validation Error   :    8.170006\n",
            "30600   Training Loss :  0.10836773365736008\n",
            "Valdation Loss   :    5.7987585 ------   Validation Error   :    8.050003\n",
            "30650   Training Loss :  0.7216542959213257\n",
            "Valdation Loss   :    8.388348 ------   Validation Error   :    8.139999\n",
            "30700   Training Loss :  0.14752016961574554\n",
            "Valdation Loss   :    9.24151 ------   Validation Error   :    8.150002\n",
            "30750   Training Loss :  0.2084498554468155\n",
            "Valdation Loss   :    7.3558717 ------   Validation Error   :    8.099998\n",
            "30800   Training Loss :  0.13666167855262756\n",
            "Valdation Loss   :    8.102523 ------   Validation Error   :    8.050003\n",
            "30850   Training Loss :  0.5732159614562988\n",
            "Valdation Loss   :    7.08941 ------   Validation Error   :    8.090004\n",
            "30900   Training Loss :  0.11363721638917923\n",
            "Valdation Loss   :    7.707363 ------   Validation Error   :    8.130005\n",
            "30950   Training Loss :  0.8793847560882568\n",
            "Valdation Loss   :    8.452762 ------   Validation Error   :    8.099998\n",
            "31000   Training Loss :  0.663750410079956\n",
            "Valdation Loss   :    5.1974683 ------   Validation Error   :    8.099998\n",
            "31050   Training Loss :  0.6454687714576721\n",
            "Valdation Loss   :    6.88239 ------   Validation Error   :    8.090004\n",
            "31100   Training Loss :  0.635909378528595\n",
            "Valdation Loss   :    9.16562 ------   Validation Error   :    8.170006\n",
            "31150   Training Loss :  0.10637573897838593\n",
            "Valdation Loss   :    8.9498205 ------   Validation Error   :    8.220001\n",
            "31200   Training Loss :  0.20311196148395538\n",
            "Valdation Loss   :    7.8263617 ------   Validation Error   :    8.18\n",
            "31250   Training Loss :  0.8932314515113831\n",
            "Valdation Loss   :    6.305665 ------   Validation Error   :    8.170006\n",
            "31300   Training Loss :  0.24668766558170319\n",
            "Valdation Loss   :    7.540201 ------   Validation Error   :    8.07\n",
            "31350   Training Loss :  0.235581174492836\n",
            "Valdation Loss   :    7.380947 ------   Validation Error   :    8.010002\n",
            "31400   Training Loss :  0.14106009900569916\n",
            "Valdation Loss   :    6.5185037 ------   Validation Error   :    8.130005\n",
            "31450   Training Loss :  0.7973272800445557\n",
            "Valdation Loss   :    5.648305 ------   Validation Error   :    8.080002\n",
            "31500   Training Loss :  0.20403188467025757\n",
            "Valdation Loss   :    9.204007 ------   Validation Error   :    8.200005\n",
            "31550   Training Loss :  0.221878319978714\n",
            "Valdation Loss   :    7.298941 ------   Validation Error   :    8.120003\n",
            "31600   Training Loss :  0.6111266016960144\n",
            "Valdation Loss   :    8.756366 ------   Validation Error   :    8.139999\n",
            "31650   Training Loss :  0.29337018728256226\n",
            "Valdation Loss   :    5.555907 ------   Validation Error   :    8.120003\n",
            "31700   Training Loss :  0.1041407436132431\n",
            "Valdation Loss   :    7.450649 ------   Validation Error   :    8.120003\n",
            "31750   Training Loss :  0.37327033281326294\n",
            "Valdation Loss   :    6.029408 ------   Validation Error   :    8.160004\n",
            "31800   Training Loss :  0.11199048906564713\n",
            "Valdation Loss   :    7.6068683 ------   Validation Error   :    8.130005\n",
            "31850   Training Loss :  0.30269983410835266\n",
            "Valdation Loss   :    8.72473 ------   Validation Error   :    8.090004\n",
            "31900   Training Loss :  0.09032231569290161\n",
            "Valdation Loss   :    9.293519 ------   Validation Error   :    8.050003\n",
            "31950   Training Loss :  0.31848591566085815\n",
            "Valdation Loss   :    5.389453 ------   Validation Error   :    8.090004\n",
            "32000   Training Loss :  0.3742794394493103\n",
            "Valdation Loss   :    6.117834 ------   Validation Error   :    8.110001\n",
            "32050   Training Loss :  0.09035433828830719\n",
            "Valdation Loss   :    8.313067 ------   Validation Error   :    8.090004\n",
            "32100   Training Loss :  0.09479957073926926\n",
            "Valdation Loss   :    8.987272 ------   Validation Error   :    8.060005\n",
            "32150   Training Loss :  0.24845640361309052\n",
            "Valdation Loss   :    8.543583 ------   Validation Error   :    8.170006\n",
            "32200   Training Loss :  0.11590921878814697\n",
            "Valdation Loss   :    7.4392805 ------   Validation Error   :    8.07\n",
            "32250   Training Loss :  0.36310917139053345\n",
            "Valdation Loss   :    6.7669587 ------   Validation Error   :    7.9900055\n",
            "32300   Training Loss :  0.2158573418855667\n",
            "Valdation Loss   :    6.4120617 ------   Validation Error   :    8.040001\n",
            "32350   Training Loss :  0.20149579644203186\n",
            "Valdation Loss   :    6.612467 ------   Validation Error   :    8.020004\n",
            "32400   Training Loss :  0.1610805243253708\n",
            "Valdation Loss   :    6.558702 ------   Validation Error   :    8.07\n",
            "32450   Training Loss :  0.16368016600608826\n",
            "Valdation Loss   :    9.050521 ------   Validation Error   :    8.040001\n",
            "32500   Training Loss :  0.23620201647281647\n",
            "Valdation Loss   :    9.2076645 ------   Validation Error   :    8.0\n",
            "32550   Training Loss :  0.49826520681381226\n",
            "Valdation Loss   :    8.00226 ------   Validation Error   :    7.9500046\n",
            "32600   Training Loss :  0.9887128472328186\n",
            "Valdation Loss   :    8.12634 ------   Validation Error   :    7.9400024\n",
            "32650   Training Loss :  0.3328843116760254\n",
            "Valdation Loss   :    8.07754 ------   Validation Error   :    7.959999\n",
            "32700   Training Loss :  0.421676367521286\n",
            "Valdation Loss   :    7.8923883 ------   Validation Error   :    8.0\n",
            "32750   Training Loss :  0.37703996896743774\n",
            "Valdation Loss   :    7.6253743 ------   Validation Error   :    8.020004\n",
            "32800   Training Loss :  0.5199370384216309\n",
            "Valdation Loss   :    7.6553125 ------   Validation Error   :    7.970001\n",
            "32850   Training Loss :  0.11629016697406769\n",
            "Valdation Loss   :    9.256744 ------   Validation Error   :    7.9800034\n",
            "32900   Training Loss :  0.729904294013977\n",
            "Valdation Loss   :    7.2523584 ------   Validation Error   :    8.020004\n",
            "32950   Training Loss :  0.27098241448402405\n",
            "Valdation Loss   :    6.6586456 ------   Validation Error   :    8.0\n",
            "33000   Training Loss :  0.20075491070747375\n",
            "Valdation Loss   :    7.639953 ------   Validation Error   :    8.07\n",
            "33050   Training Loss :  0.10908184945583344\n",
            "Valdation Loss   :    9.150658 ------   Validation Error   :    8.090004\n",
            "33100   Training Loss :  0.13307391107082367\n",
            "Valdation Loss   :    8.407515 ------   Validation Error   :    8.130005\n",
            "33150   Training Loss :  0.19105009734630585\n",
            "Valdation Loss   :    7.560889 ------   Validation Error   :    8.090004\n",
            "33200   Training Loss :  0.3226935565471649\n",
            "Valdation Loss   :    8.019261 ------   Validation Error   :    7.9100037\n",
            "33250   Training Loss :  0.0811665803194046\n",
            "Valdation Loss   :    8.9167595 ------   Validation Error   :    7.9100037\n",
            "33300   Training Loss :  0.31302300095558167\n",
            "Valdation Loss   :    7.995126 ------   Validation Error   :    7.9800034\n",
            "33350   Training Loss :  0.3229590058326721\n",
            "Valdation Loss   :    7.917648 ------   Validation Error   :    8.040001\n",
            "33400   Training Loss :  0.2041303515434265\n",
            "Valdation Loss   :    6.4693666 ------   Validation Error   :    8.010002\n",
            "33450   Training Loss :  0.2762813866138458\n",
            "Valdation Loss   :    8.914699 ------   Validation Error   :    7.9900055\n",
            "33500   Training Loss :  0.6726164817810059\n",
            "Valdation Loss   :    7.8839536 ------   Validation Error   :    7.9800034\n",
            "33550   Training Loss :  0.0734323114156723\n",
            "Valdation Loss   :    7.1149507 ------   Validation Error   :    8.07\n",
            "33600   Training Loss :  0.32569313049316406\n",
            "Valdation Loss   :    8.777222 ------   Validation Error   :    8.060005\n",
            "33650   Training Loss :  0.3554220199584961\n",
            "Valdation Loss   :    5.4142075 ------   Validation Error   :    8.110001\n",
            "33700   Training Loss :  0.17211630940437317\n",
            "Valdation Loss   :    5.7206964 ------   Validation Error   :    8.0\n",
            "33750   Training Loss :  0.10791829973459244\n",
            "Valdation Loss   :    8.99194 ------   Validation Error   :    7.9800034\n",
            "33800   Training Loss :  0.08593816310167313\n",
            "Valdation Loss   :    7.8555517 ------   Validation Error   :    8.029999\n",
            "33850   Training Loss :  0.1357482522726059\n",
            "Valdation Loss   :    8.739771 ------   Validation Error   :    7.9300003\n",
            "33900   Training Loss :  0.2812250256538391\n",
            "Valdation Loss   :    7.6320815 ------   Validation Error   :    7.8899994\n",
            "33950   Training Loss :  0.041666846722364426\n",
            "Valdation Loss   :    11.011549 ------   Validation Error   :    8.020004\n",
            "34000   Training Loss :  0.39488500356674194\n",
            "Valdation Loss   :    9.0369005 ------   Validation Error   :    7.9500046\n",
            "34050   Training Loss :  0.17037372291088104\n",
            "Valdation Loss   :    7.533654 ------   Validation Error   :    8.020004\n",
            "34100   Training Loss :  0.11147700250148773\n",
            "Valdation Loss   :    6.105973 ------   Validation Error   :    8.07\n",
            "34150   Training Loss :  0.09113644063472748\n",
            "Valdation Loss   :    6.4971027 ------   Validation Error   :    7.9400024\n",
            "34200   Training Loss :  0.2703254818916321\n",
            "Valdation Loss   :    10.178886 ------   Validation Error   :    7.9100037\n",
            "34250   Training Loss :  0.13873906433582306\n",
            "Valdation Loss   :    6.4214373 ------   Validation Error   :    7.9300003\n",
            "34300   Training Loss :  0.28467535972595215\n",
            "Valdation Loss   :    8.564886 ------   Validation Error   :    7.9500046\n",
            "34350   Training Loss :  0.28376150131225586\n",
            "Valdation Loss   :    7.6673574 ------   Validation Error   :    7.9000015\n",
            "34400   Training Loss :  0.16448602080345154\n",
            "Valdation Loss   :    6.2797747 ------   Validation Error   :    7.880005\n",
            "34450   Training Loss :  0.17804831266403198\n",
            "Valdation Loss   :    8.46456 ------   Validation Error   :    7.9000015\n",
            "34500   Training Loss :  0.702471911907196\n",
            "Valdation Loss   :    8.63214 ------   Validation Error   :    8.020004\n",
            "34550   Training Loss :  0.4214805066585541\n",
            "Valdation Loss   :    8.175835 ------   Validation Error   :    7.970001\n",
            "34600   Training Loss :  0.2890646457672119\n",
            "Valdation Loss   :    6.447188 ------   Validation Error   :    7.9400024\n",
            "34650   Training Loss :  0.3056755065917969\n",
            "Valdation Loss   :    7.945031 ------   Validation Error   :    7.9400024\n",
            "34700   Training Loss :  0.12007741630077362\n",
            "Valdation Loss   :    7.0131836 ------   Validation Error   :    7.8700027\n",
            "34750   Training Loss :  0.18719780445098877\n",
            "Valdation Loss   :    7.989984 ------   Validation Error   :    7.8700027\n",
            "34800   Training Loss :  0.15702350437641144\n",
            "Valdation Loss   :    7.521775 ------   Validation Error   :    7.8499985\n",
            "34850   Training Loss :  0.6245620250701904\n",
            "Valdation Loss   :    6.3570147 ------   Validation Error   :    7.9300003\n",
            "34900   Training Loss :  0.2887314558029175\n",
            "Valdation Loss   :    8.206065 ------   Validation Error   :    7.9000015\n",
            "34950   Training Loss :  0.038110170513391495\n",
            "Valdation Loss   :    6.548871 ------   Validation Error   :    7.920006\n",
            "35000   Training Loss :  0.7679441571235657\n",
            "Valdation Loss   :    5.6500854 ------   Validation Error   :    7.9900055\n",
            "35050   Training Loss :  0.24600860476493835\n",
            "Valdation Loss   :    7.9517465 ------   Validation Error   :    7.9400024\n",
            "35100   Training Loss :  0.6657518148422241\n",
            "Valdation Loss   :    8.785485 ------   Validation Error   :    7.970001\n",
            "35150   Training Loss :  0.27527523040771484\n",
            "Valdation Loss   :    7.97478 ------   Validation Error   :    7.8499985\n",
            "35200   Training Loss :  0.701006293296814\n",
            "Valdation Loss   :    10.357836 ------   Validation Error   :    7.8499985\n",
            "35250   Training Loss :  0.11548832803964615\n",
            "Valdation Loss   :    8.303338 ------   Validation Error   :    7.920006\n",
            "35300   Training Loss :  0.8297710418701172\n",
            "Valdation Loss   :    8.172313 ------   Validation Error   :    7.8899994\n",
            "35350   Training Loss :  0.4217386543750763\n",
            "Valdation Loss   :    5.2863092 ------   Validation Error   :    7.9300003\n",
            "35400   Training Loss :  0.2200479656457901\n",
            "Valdation Loss   :    7.652312 ------   Validation Error   :    7.8700027\n",
            "35450   Training Loss :  0.5614198446273804\n",
            "Valdation Loss   :    6.8801475 ------   Validation Error   :    7.9100037\n",
            "35500   Training Loss :  0.0812167152762413\n",
            "Valdation Loss   :    7.3523545 ------   Validation Error   :    7.8499985\n",
            "35550   Training Loss :  0.36905956268310547\n",
            "Valdation Loss   :    7.677315 ------   Validation Error   :    7.830002\n",
            "35600   Training Loss :  0.2617301940917969\n",
            "Valdation Loss   :    8.213441 ------   Validation Error   :    7.8700027\n",
            "35650   Training Loss :  0.21962806582450867\n",
            "Valdation Loss   :    7.3514824 ------   Validation Error   :    7.8199997\n",
            "35700   Training Loss :  0.6498212218284607\n",
            "Valdation Loss   :    8.887022 ------   Validation Error   :    7.840004\n",
            "35750   Training Loss :  0.10540259629487991\n",
            "Valdation Loss   :    8.565585 ------   Validation Error   :    7.800003\n",
            "35800   Training Loss :  0.29442477226257324\n",
            "Valdation Loss   :    6.9588947 ------   Validation Error   :    7.800003\n",
            "35850   Training Loss :  0.29518362879753113\n",
            "Valdation Loss   :    8.450308 ------   Validation Error   :    7.8199997\n",
            "35900   Training Loss :  0.08535759150981903\n",
            "Valdation Loss   :    7.0387664 ------   Validation Error   :    7.8199997\n",
            "35950   Training Loss :  0.5692160129547119\n",
            "Valdation Loss   :    8.437137 ------   Validation Error   :    7.810005\n",
            "36000   Training Loss :  0.34984883666038513\n",
            "Valdation Loss   :    8.472647 ------   Validation Error   :    7.810005\n",
            "36050   Training Loss :  0.13124389946460724\n",
            "Valdation Loss   :    7.360247 ------   Validation Error   :    7.75\n",
            "36100   Training Loss :  0.13348406553268433\n",
            "Valdation Loss   :    9.57865 ------   Validation Error   :    7.760002\n",
            "36150   Training Loss :  0.277046799659729\n",
            "Valdation Loss   :    7.06935 ------   Validation Error   :    7.75\n",
            "36200   Training Loss :  0.1802493780851364\n",
            "Valdation Loss   :    9.895655 ------   Validation Error   :    7.810005\n",
            "36250   Training Loss :  0.04291972890496254\n",
            "Valdation Loss   :    8.2610655 ------   Validation Error   :    7.880005\n",
            "36300   Training Loss :  0.18707329034805298\n",
            "Valdation Loss   :    7.2502146 ------   Validation Error   :    7.800003\n",
            "36350   Training Loss :  0.6917905211448669\n",
            "Valdation Loss   :    6.765594 ------   Validation Error   :    7.8199997\n",
            "36400   Training Loss :  0.07263660430908203\n",
            "Valdation Loss   :    8.415268 ------   Validation Error   :    7.830002\n",
            "36450   Training Loss :  0.5472517609596252\n",
            "Valdation Loss   :    8.486102 ------   Validation Error   :    7.790001\n",
            "36500   Training Loss :  0.13601146638393402\n",
            "Valdation Loss   :    7.4620175 ------   Validation Error   :    7.800003\n",
            "36550   Training Loss :  0.4381612539291382\n",
            "Valdation Loss   :    6.6375036 ------   Validation Error   :    7.8600006\n",
            "36600   Training Loss :  0.43379083275794983\n",
            "Valdation Loss   :    7.82973 ------   Validation Error   :    7.8600006\n",
            "36650   Training Loss :  0.376748651266098\n",
            "Valdation Loss   :    6.7648573 ------   Validation Error   :    7.800003\n",
            "36700   Training Loss :  0.24412214756011963\n",
            "Valdation Loss   :    8.77676 ------   Validation Error   :    7.8600006\n",
            "36750   Training Loss :  0.13761520385742188\n",
            "Valdation Loss   :    10.7054615 ------   Validation Error   :    7.790001\n",
            "36800   Training Loss :  0.16486123204231262\n",
            "Valdation Loss   :    7.6125984 ------   Validation Error   :    7.880005\n",
            "36850   Training Loss :  0.3119942247867584\n",
            "Valdation Loss   :    8.297953 ------   Validation Error   :    7.779999\n",
            "36900   Training Loss :  0.19187414646148682\n",
            "Valdation Loss   :    10.618902 ------   Validation Error   :    7.720001\n",
            "36950   Training Loss :  0.08003372699022293\n",
            "Valdation Loss   :    8.800196 ------   Validation Error   :    7.779999\n",
            "37000   Training Loss :  0.6667416095733643\n",
            "Valdation Loss   :    11.487407 ------   Validation Error   :    7.709999\n",
            "37050   Training Loss :  0.2233940213918686\n",
            "Valdation Loss   :    8.201085 ------   Validation Error   :    7.790001\n",
            "37100   Training Loss :  0.43596377968788147\n",
            "Valdation Loss   :    6.578307 ------   Validation Error   :    7.8499985\n",
            "37150   Training Loss :  0.22824445366859436\n",
            "Valdation Loss   :    7.7060113 ------   Validation Error   :    7.779999\n",
            "37200   Training Loss :  0.2969159781932831\n",
            "Valdation Loss   :    7.644971 ------   Validation Error   :    7.800003\n",
            "37250   Training Loss :  0.22376906871795654\n",
            "Valdation Loss   :    7.5914984 ------   Validation Error   :    7.7700043\n",
            "37300   Training Loss :  0.17448019981384277\n",
            "Valdation Loss   :    9.157122 ------   Validation Error   :    7.8199997\n",
            "37350   Training Loss :  0.48950886726379395\n",
            "Valdation Loss   :    8.19354 ------   Validation Error   :    7.8199997\n",
            "37400   Training Loss :  0.2348230481147766\n",
            "Valdation Loss   :    8.865783 ------   Validation Error   :    7.9400024\n",
            "37450   Training Loss :  0.18248356878757477\n",
            "Valdation Loss   :    7.146176 ------   Validation Error   :    7.790001\n",
            "37500   Training Loss :  0.11748412251472473\n",
            "Valdation Loss   :    8.950423 ------   Validation Error   :    7.8899994\n"
          ]
        }
      ]
    },
    {
      "cell_type": "markdown",
      "metadata": {
        "id": "RT0TJOEi0YpA"
      },
      "source": [
        "####Plotting the training error, training loss, validation error, and validation loss"
      ]
    },
    {
      "cell_type": "code",
      "metadata": {
        "colab": {
          "base_uri": "https://localhost:8080/",
          "height": 641
        },
        "id": "uVVKUGhXxHOB",
        "outputId": "edb4353b-a0f2-4a3d-8dd9-0bfbec36f842"
      },
      "source": [
        "epochs = range(1, 751)\n",
        "plt.figure(figsize=(5,3), dpi=100)\n",
        "plt.plot(epochs, trainloss, 'g', label='Training Loss')\n",
        "plt.title('Training loss learning curve')\n",
        "plt.xlabel('Epochs')\n",
        "plt.ylabel('Loss')\n",
        "plt.legend()\n",
        "plt.show()\n",
        "plt.figure(figsize=(5,3), dpi=100)\n",
        "plt.plot(epochs, trainerr, 'b', label='Training Error')\n",
        "plt.title('Training error learning curve')\n",
        "plt.xlabel('Number of weight updates')\n",
        "plt.ylabel('Error')\n",
        "plt.legend()\n",
        "plt.show()"
      ],
      "execution_count": 40,
      "outputs": [
        {
          "output_type": "display_data",
          "data": {
            "image/png": "[encoded data removed]",
            "text/plain": [
              "<Figure size 500x300 with 1 Axes>"
            ]
          },
          "metadata": {
            "needs_background": "light"
          }
        },
        {
          "output_type": "display_data",
          "data": {
            "image/png": "[encoded data removed]",
            "text/plain": [
              "<Figure size 500x300 with 1 Axes>"
            ]
          },
          "metadata": {
            "needs_background": "light"
          }
        }
      ]
    },
    {
      "cell_type": "code",
      "metadata": {
        "colab": {
          "base_uri": "https://localhost:8080/",
          "height": 641
        },
        "id": "eoKD1xUcbNgx",
        "outputId": "97a2dcba-f743-4e71-92fa-cff71d2b1e48"
      },
      "source": [
        "epochs = range(1, 751)\n",
        "plt.figure(figsize=(5,3), dpi=100)\n",
        "plt.plot(epochs, valloss, 'g', label='Validation Loss')\n",
        "plt.title('Validation Loss')\n",
        "plt.xlabel('Number of weight updates')\n",
        "plt.ylabel('Validation Loss')\n",
        "plt.legend()\n",
        "plt.show()\n",
        "plt.figure(figsize=(5,3), dpi=100)\n",
        "plt.plot(epochs, valerr, 'b', label='Validation Error')\n",
        "plt.title('Validation Error')\n",
        "plt.xlabel('Number of weight updates')\n",
        "plt.ylabel('Validation Error')\n",
        "plt.legend()\n",
        "plt.show()"
      ],
      "execution_count": 39,
      "outputs": [
        {
          "output_type": "display_data",
          "data": {
            "image/png": "[encoded data removed]",
            "text/plain": [
              "<Figure size 500x300 with 1 Axes>"
            ]
          },
          "metadata": {
            "needs_background": "light"
          }
        },
        {
          "output_type": "display_data",
          "data": {
            "image/png": "[encoded data removed]",
            "text/plain": [
              "<Figure size 500x300 with 1 Axes>"
            ]
          },
          "metadata": {
            "needs_background": "light"
          }
        }
      ]
    },
    {
      "cell_type": "markdown",
      "metadata": {
        "id": "HpFZjWziGthJ"
      },
      "source": [
        "*Thank you!*"
      ]
    }
  ]
}